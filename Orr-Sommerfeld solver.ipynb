{
 "cells": [
  {
   "cell_type": "markdown",
   "metadata": {},
   "source": [
    "# Orr-Sommerfeld equation\n",
    "\n",
    "The Orr-Sommerfeld equation is an eigenvalue problem that determines whether a parallel fluid flow profile $u = (u(z), 0, 0)$ is unstable, given the velocity profile and the Reynolds number. This is an important first step for studying whether a fluid flow, such as the flow in a pipe, is likely to remain laminar or to transition to turbulence."
   ]
  },
  {
   "cell_type": "code",
   "execution_count": null,
   "metadata": {},
   "outputs": [],
   "source": [
    "from functools import lru_cache\n",
    "import numpy as np\n",
    "from numpy import pi\n",
    "from numpy import sqrt, sin, cos, tan, sinh, cosh, exp, dot\n",
    "# from numpy.linalg import eig, eigh\n",
    "from scipy.linalg import eig, eigh, eigvals\n",
    "import matplotlib.pyplot as plt\n",
    "from ipywidgets import interact, interactive, fixed, interact_manual, Layout\n",
    "import ipywidgets as widgets\n",
    "from differentials import *"
   ]
  },
  {
   "cell_type": "code",
   "execution_count": null,
   "metadata": {},
   "outputs": [],
   "source": [
    "def discretise(xa, xb, nx=101): # , bcs=\"periodic\"):\n",
    "    \"\"\"Returns the xs, the spacing dx between the xs,\n",
    "    and the identity and first and second derivative\n",
    "    matrices, computed using a 2nd-order scheme.\"\"\"\n",
    "    xs = np.linspace(xa, xb, nx)\n",
    "    dx = xs[1] - xs[0]\n",
    "\n",
    "    eye = np.eye(nx)\n",
    "    \n",
    "    # Use central finite differences\n",
    "    ddx = (np.roll(eye, 1, 1) - np.roll(eye, -1, 1)) / (2*dx)\n",
    "    d2dx2 = (np.roll(eye, 1, 1) - 2*eye + np.roll(eye, -1, 1)) / (dx*dx)\n",
    "    # Use one-way differences at the boundaries\n",
    "    ddx[0, 4:] = 0; ddx[0, :4] = (-11/6, 3, -3/2, 1/3) / dx\n",
    "    ddx[-1, :-4] = 0; ddx[-1, -4:] = (-1/3, 3/2, -3, 11/6) / dx\n",
    "    d2dx2[0, 4:] = 0; d2dx2[0, :4] = (2, -5, 4, -1) / (dx*dx)\n",
    "    d2dx2[-1, :-4] = 0; d2dx2[-1, -4:] = (-1, 4, -5, 2) / (dx*dx)\n",
    "    return xs, dx, eye, ddx, d2dx2\n",
    "\n",
    "\n",
    "\n",
    "def myeig(op, eye, *args, **kwargs):\n",
    "    nx = op.shape[0]\n",
    "    eigvals, eigvecs = eig(op, eye, *args, **kwargs)\n",
    "    ordering = sorted(range(nx), key=lambda i: np.real(eigvals)[i])\n",
    "    eigvals = eigvals[ordering]\n",
    "    eigvecs = eigvecs[:, ordering] * sqrt(nx)\n",
    "    return eigvals, eigvecs"
   ]
  },
  {
   "cell_type": "code",
   "execution_count": null,
   "metadata": {},
   "outputs": [],
   "source": [
    "xa = -1; xb = 1; nx = 201;\n",
    "xs, dx, eye, ddx, d2dx2 = discretise(xa, xb, nx)\n",
    "d4dx4 = d4dx4_mat(nx, dx)\n",
    "\n",
    "# Rey = 5772\n",
    "# alpha = 1.02\n",
    "Us = (1-xs**2)\n",
    "Upps = -2 + np.zeros(Us.shape)\n",
    "# Us = xs\n",
    "# Upps = np.zeros(Us.shape)\n",
    "\n",
    "def augment(mat, pad):\n",
    "    \"\"\"Return a padded matrix.\"\"\"\n",
    "    size = mat.shape[0]\n",
    "    return np.block([\n",
    "        [np.zeros([pad, pad]), np.zeros([pad, size]), np.zeros([pad, pad])],\n",
    "        [np.zeros([size, pad]), mat, np.zeros([size, pad])],\n",
    "        [np.zeros([pad, pad]), np.zeros([pad, size]), np.zeros([pad, pad])],\n",
    "    ])\n",
    "\n",
    "@lru_cache(maxsize=None)\n",
    "def orrsommsolver(Rey, alpha, *args, **kwargs):\n",
    "    orrsomm_left = 1j / (alpha * Rey) * (d4dx4 - 2*(alpha**2) * d2dx2 + (alpha**4) * eye) \\\n",
    "                   - np.diag(Upps) \\\n",
    "                   + np.diag(Us) @ (d2dx2 - (alpha**2)*eye)\n",
    "    orrsomm_right = (d2dx2 - (alpha**2)*eye)\n",
    "\n",
    "    # Boundary conditions\n",
    "    orrsomm_left = augment(orrsomm_left, 2)\n",
    "    orrsomm_right = augment(orrsomm_right, 2)\n",
    "    orrsomm_left[[0, 1, -2, -1], :] = 0\n",
    "    orrsomm_right[0, :] = 0; \n",
    "    orrsomm_right[0, 2] = 1\n",
    "    orrsomm_right[-1, :] = 0; \n",
    "    orrsomm_right[-1, -3] = 1\n",
    "    orrsomm_right[1, :] = 0; \n",
    "    orrsomm_right[1, 2:5] = (3/2, -2, 1/2) / dx;\n",
    "    orrsomm_right[-2, :] = 0; \n",
    "    orrsomm_right[-2, -5:-2] = (-1/2, 2, -3/2) / dx;\n",
    "    \n",
    "#     print(orrsomm_left)\n",
    "#     print(orrsomm_right)\n",
    "    \n",
    "    eigvals, eigvecs = myeig(orrsomm_left, orrsomm_right, *args, **kwargs)\n",
    "    growths = -1j * alpha * eigvals\n",
    "    \n",
    "    # Sort those that remain in order of growth size (which is the\n",
    "    # imaginary part of the eigenvalue, times the wavenumber).\n",
    "    # Drop the four eigenvalues that came from imposing the BCs.\n",
    "    keep = sorted(range(len(eigvals)),\n",
    "                  key=lambda i: abs(eigvals[i]))[6:]\n",
    "    growths = growths[keep]\n",
    "    eigvals = eigvals[keep]\n",
    "    eigvecs = eigvecs[:, keep]    \n",
    "    \n",
    "    ordering = sorted(range(len(eigvals)),\n",
    "                      key=lambda i: np.real(growths[i]), \n",
    "                      reverse=True)\n",
    "    # sort by the growth rate\n",
    "    growths = growths[ordering]\n",
    "    eigvals = eigvals[ordering]\n",
    "    eigvecs = eigvecs[:, ordering]\n",
    "    eigvecs = eigvecs[2:-2, :]\n",
    "    return growths, eigvals, eigvecs"
   ]
  },
  {
   "cell_type": "code",
   "execution_count": null,
   "metadata": {},
   "outputs": [],
   "source": [
    "@interact(Rey=widgets.FloatSlider(min=500, max=10000, step=100, \n",
    "                                  value=5772, continuous_update=False,\n",
    "                                  layout=Layout(width=\"500px\")),\n",
    "          alpha=widgets.FloatSlider(min=0, max=4, step=0.01, \n",
    "                                    value=1.02, continuous_update=False,\n",
    "                                    layout=Layout(width=\"500px\")))\n",
    "def orrsommsolver_int(Rey, alpha, *args, **kwargs):\n",
    "    growths, eigvals, eigvecs = orrsommsolver(Rey, alpha, *args, **kwargs)\n",
    "    ax = plt.gca()\n",
    "    ax.plot(np.real(growths), np.imag(growths), 'k+')\n",
    "    ax.grid()\n",
    "    ax.set_xlim([-1, 0.1])\n",
    "    ax.set_ylim([-1, -0.2])\n",
    "    ax.set_title(f\"wavespeed = %.3f\\ngrowth rate = %.3f\" % (\n",
    "                 np.real(eigvals[0]), np.real(growths[0])))\n",
    "\n",
    "    plt.show()"
   ]
  },
  {
   "cell_type": "code",
   "execution_count": null,
   "metadata": {
    "scrolled": true
   },
   "outputs": [],
   "source": [
    "Rey = 5772\n",
    "alpha = 1.02\n",
    "growths, eigvals, eigvecs = orrsommsolver(Rey, alpha)\n",
    "ax = plt.gca()\n",
    "ax.plot(np.real(growths), np.imag(growths), 'k+')\n",
    "ax.grid()\n",
    "ax.set_xlim([-1, 0.1])\n",
    "ax.set_ylim([-1, -0.2])\n",
    "ax.set_title(f\"wavespeed = %.3f\\ngrowth rate = %.3f\" % (\n",
    "                 np.real(eigvals[0]), np.real(growths[0])))\n",
    "\n",
    "plt.show()"
   ]
  },
  {
   "cell_type": "code",
   "execution_count": null,
   "metadata": {},
   "outputs": [],
   "source": [
    "eigvals"
   ]
  },
  {
   "cell_type": "code",
   "execution_count": null,
   "metadata": {},
   "outputs": [],
   "source": [
    "ax = plt.gca()\n",
    "ax.plot(np.real(growths), np.imag(growths), 'k+')\n",
    "ax.grid()\n",
    "ax.set_xlim([-1, 0.1])\n",
    "# ax.set_ylim([-1, -0.2])\n",
    "ax.set_title(f\"wavespeed = %.3f\\ngrowth rate = %.3f\" % (\n",
    "                 np.real(eigvals[0]), np.real(growths[0])))\n",
    "\n",
    "plt.show()"
   ]
  },
  {
   "cell_type": "code",
   "execution_count": null,
   "metadata": {},
   "outputs": [],
   "source": [
    "plt.plot(eigvecs[:, 0], xs); \n",
    "plt.gca().grid();"
   ]
  },
  {
   "cell_type": "markdown",
   "metadata": {},
   "source": [
    "## Dispersion relation"
   ]
  },
  {
   "cell_type": "code",
   "execution_count": null,
   "metadata": {},
   "outputs": [],
   "source": [
    "# @lru_cache(maxsize=None)\n",
    "def maxgrowth(Rey, alpha, *args, **kwargs):\n",
    "    return np.real(orrsommsolver(Rey, alpha, *args, **kwargs)[0][0])\n",
    "\n",
    "\n",
    "@interact(Rey=widgets.FloatSlider(min=500, max=10000, step=100, \n",
    "                                  value=5772, continuous_update=False,\n",
    "                                  layout=Layout(width=\"500px\")))\n",
    "@lru_cache(maxsize=128)\n",
    "def os_dispersion(Rey): #, *args, **kwargs):\n",
    "    alphas = np.linspace(0.1, 1.3, 49)\n",
    "    growths = [maxgrowth(Rey, alpha) #, *args, **kwargs)\n",
    "               for alpha in alphas]\n",
    "    ax = plt.gca()\n",
    "    ax.plot(alphas, growths)\n",
    "    ax.grid()\n",
    "    ax.set_title(f\"Rey = {Rey}\")\n",
    "    ax.set_xlim([0, 1.4])\n",
    "    plt.show()"
   ]
  },
  {
   "cell_type": "code",
   "execution_count": null,
   "metadata": {},
   "outputs": [],
   "source": []
  }
 ],
 "metadata": {
  "kernelspec": {
   "display_name": "Python 3",
   "language": "python",
   "name": "python3"
  },
  "language_info": {
   "codemirror_mode": {
    "name": "ipython",
    "version": 3
   },
   "file_extension": ".py",
   "mimetype": "text/x-python",
   "name": "python",
   "nbconvert_exporter": "python",
   "pygments_lexer": "ipython3",
   "version": "3.7.5"
  }
 },
 "nbformat": 4,
 "nbformat_minor": 4
}
