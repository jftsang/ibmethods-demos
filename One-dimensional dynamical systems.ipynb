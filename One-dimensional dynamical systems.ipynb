{
 "cells": [
  {
   "cell_type": "markdown",
   "id": "d9ff3f30",
   "metadata": {},
   "source": [
    "# One-dimensional dynamical systems"
   ]
  },
  {
   "cell_type": "code",
   "execution_count": null,
   "id": "d20265b4",
   "metadata": {},
   "outputs": [],
   "source": [
    "import matplotlib.pyplot as plt\n",
    "import numpy as np\n",
    "import random\n",
    "from scipy.integrate import solve_ivp\n",
    "\n",
    "from ipywidgets import interact, interactive, fixed, interact_manual\n",
    "import ipywidgets as widgets"
   ]
  },
  {
   "cell_type": "markdown",
   "id": "96ee5f7e",
   "metadata": {},
   "source": [
    "## Insect population with harvesting (Mathematical Biology Sheet 1 Question 1)"
   ]
  },
  {
   "cell_type": "code",
   "execution_count": null,
   "id": "7be73ac2",
   "metadata": {},
   "outputs": [],
   "source": [
    "def insects(t, y, alpha, beta):\n",
    "    return y * (1 - y) - beta * y / (alpha + y)"
   ]
  },
  {
   "cell_type": "code",
   "execution_count": null,
   "id": "e01b9266",
   "metadata": {},
   "outputs": [],
   "source": [
    "@interact(alpha=widgets.FloatSlider(min=0, max=2, value=0.12, step=0.02, continuous_update=False),\n",
    "          beta=widgets.FloatSlider(min=0, max=2, value=0.28, step=0.02, continuous_update=False))\n",
    "def insects_demo(alpha, beta):\n",
    "    tf = 15\n",
    "    \n",
    "    initial_states = np.arange(0, 1.25, 0.025)\n",
    "    sols = [solve_ivp(insects, (0, tf), [i], args=(alpha, beta)) for i in initial_states]\n",
    "    \n",
    "    fig, axs = plt.subplots(2, figsize=(12, 6))\n",
    "    axs[0].plot(initial_states, insects(0, initial_states, alpha, beta))\n",
    "    axs[0].set_ylim((-.5, .5))\n",
    "    axs[0].grid()\n",
    "    axs[0].set_title('$\\dot{n}$')\n",
    "    for sol in sols:\n",
    "        assert sol.success, sol.message\n",
    "        axs[1].plot(sol.t, sol.y[0, :], 'gray')\n",
    "    axs[1].grid()\n",
    "    plt.show()"
   ]
  }
 ],
 "metadata": {
  "kernelspec": {
   "display_name": "Python 3 (ipykernel)",
   "language": "python",
   "name": "python3"
  },
  "language_info": {
   "codemirror_mode": {
    "name": "ipython",
    "version": 3
   },
   "file_extension": ".py",
   "mimetype": "text/x-python",
   "name": "python",
   "nbconvert_exporter": "python",
   "pygments_lexer": "ipython3",
   "version": "3.9.9"
  }
 },
 "nbformat": 4,
 "nbformat_minor": 5
}
