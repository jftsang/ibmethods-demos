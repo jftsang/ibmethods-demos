{
 "cells": [
  {
   "cell_type": "markdown",
   "metadata": {},
   "source": [
    "# Fourier series"
   ]
  },
  {
   "cell_type": "code",
   "execution_count": null,
   "metadata": {
    "scrolled": false
   },
   "outputs": [],
   "source": [
    "import numpy as np\n",
    "import matplotlib.pyplot as plt\n",
    "\n",
    "# from __future__ import print_function\n",
    "from ipywidgets import interact, interactive, fixed, interact_manual\n",
    "import ipywidgets as widgets"
   ]
  },
  {
   "cell_type": "code",
   "execution_count": null,
   "metadata": {
    "scrolled": false
   },
   "outputs": [],
   "source": [
    "def Periodicise(xmin, xmax):\n",
    "    \"\"\"Function decorator that extends a function\n",
    "    by making it periodic.\n",
    "    \"\"\"\n",
    "    def xshift(x):\n",
    "        y = np.remainder(x-xmin, (xmax-xmin)) + xmin\n",
    "        return y\n",
    "    \n",
    "    def periodicised(f):\n",
    "        return lambda x: f(xshift(x))\n",
    "    \n",
    "    return lambda f: periodicised(f)\n",
    "\n",
    "def Reflect(sig, about=0):\n",
    "    \"\"\"Function decorator that extends a function\n",
    "    by reflecting it.\n",
    "    \"\"\"\n",
    "    if sig not in (1, -1, \"even\", \"odd\"):\n",
    "        raise ValueError\n",
    "    if sig == \"even\": sig = 1\n",
    "    if sig == \"odd\": sig = -1\n",
    "        \n",
    "    def inner(f, x):\n",
    "        if x > about:\n",
    "            return f(x)\n",
    "        elif x == about:\n",
    "            return f(x) if sig == 1 else 0\n",
    "        else:\n",
    "            return sig * f(2*about - x)\n",
    "        \n",
    "    def reflected(f):\n",
    "        return lambda x: inner(f, x)\n",
    "    \n",
    "    return lambda f: reflected(f)\n",
    "\n",
    "def myfft(ys):\n",
    "    \"\"\"Our FFT convention that we will use in this course.\n",
    "    Note that conventions vary between packages and authors\n",
    "    over the normalisation.\n",
    "    For this course, we want our FFTs to be independent of\n",
    "    the sample rate, so we'll normalise by multiplying by 2/nx.\n",
    "    \"\"\"\n",
    "    return np.fft.fft(ys, norm=None) * (2/len(ys))\n",
    "\n",
    "def anbn(ys):\n",
    "    \"\"\"Return two arrays, the cosine and sine coefficients.\n",
    "    Note that the 0-frequency term in the series (in this course's\n",
    "    convention) is a0/2.\"\"\"\n",
    "    ft = myfft(ys)\n",
    "    ans = np.real(ft)\n",
    "    bns = -np.imag(ft)\n",
    "    return np.array([ans, bns])\n",
    "\n",
    "def partial_fourier_sum(fourier_coeffs, period, nterms=5):\n",
    "    an, bn = fourier_coeffs\n",
    "    def Sn(x):\n",
    "        psum = an[0]/2\n",
    "        for i in range(1, nterms+1):\n",
    "            psum += an[i]*np.cos(i*2*np.pi*x / period)\n",
    "            psum += bn[i]*np.sin(i*2*np.pi*x / period)\n",
    "        return psum\n",
    "    return Sn"
   ]
  },
  {
   "cell_type": "code",
   "execution_count": null,
   "metadata": {
    "scrolled": false
   },
   "outputs": [],
   "source": [
    "# The domain (we'll go from 0 to xmax, and may need\n",
    "# to periodicise or translate our function if it was\n",
    "# originally defined on a different domain)\n",
    "nx = 256\n",
    "xmax = 2*np.pi\n",
    "dx = xmax/nx\n",
    "\n",
    "# Angular wavenumbers (or frequency). Angular, so 2pis in numerator.\n",
    "# The wavenumbers in principle go up to 2pi/dx,\n",
    "# but actually only half of these carry any physical information,\n",
    "# up to the Nyquist frequency of 2pi / (2dx).\n",
    "nyquist = np.pi / dx \n",
    "ks = np.linspace(0, 2*nyquist, nx+1)[0:-1]\n",
    "\n",
    "# For looking at Fourier series coefficients, we'll multiply by L/(2pi)\n",
    "# to get the integer wavenumbers.\n",
    "ns = ks * xmax / (2*np.pi)"
   ]
  },
  {
   "cell_type": "markdown",
   "metadata": {},
   "source": [
    "# Question 1"
   ]
  },
  {
   "cell_type": "code",
   "execution_count": null,
   "metadata": {
    "scrolled": true
   },
   "outputs": [],
   "source": [
    "nx = 256\n",
    "period = 2\n",
    "\n",
    "@Periodicise(-1, 1)\n",
    "# @Reflect(\"odd\", 0)\n",
    "def f_unv(x):\n",
    "    return (x**2 - 1)**2 # Q1\n",
    "f = np.vectorize(f_unv, otypes=[float])\n",
    "# Note need to specify float explicitly when vectorizing\n",
    "# (otherwise, type determined automatically from the first output)\n",
    "\n",
    "# We'll take the domain to be from 0 to 2 instead of -1 to 1.\n",
    "# Doesn't matter, since the function is periodic anyway.\n",
    "xs = np.linspace(0, period, nx+1)[:-1]\n",
    "ys = f(xs) # Why does this get floored?\n",
    "# Plot beyond our domain (just for demonstration purposes)\n",
    "xps = np.linspace(-2, 2, 256)\n",
    "yps = np.array([f(x) for x in xps])\n",
    "\n",
    "fig, axs = plt.subplots(2, 1, figsize=[14, 8])\n",
    "# ax.set(xlim=[0, xmax])\n",
    "axs[0].grid()\n",
    "axs[0].plot(xs, ys, \"k\",\n",
    "        xps, yps, 'k--')\n",
    "\n",
    "yft = myfft(ys)\n",
    "fourier_coeffs = anbn(ys)\n",
    "\n",
    "axs[1].set(title=\"Fourier coefficients\")\n",
    "axs[1].legend(['cosine', 'sine'])\n",
    "axs[1].set(xlim=[0, 12])\n",
    "axs[1].grid()\n",
    "axs[1].plot(ns, fourier_coeffs[0], 'ko',\n",
    "            ns, fourier_coeffs[1], 'rx')\n",
    "\n",
    "plt.show()\n",
    "\n",
    "fig, axs = plt.subplots(figsize=[14, 5])\n",
    "# ax.set(xlim=[0, xmax])\n",
    "axs.set(title=\"Partial sums of the Fourier series\")\n",
    "axs.grid()\n",
    "axs.plot(xps, yps, \"k\",\n",
    "         xps, partial_fourier_sum(fourier_coeffs, period, 1)(xps), 'r--')\n",
    "plt.show()"
   ]
  },
  {
   "cell_type": "markdown",
   "metadata": {},
   "source": [
    "## Question 2: Half-range series"
   ]
  },
  {
   "cell_type": "code",
   "execution_count": null,
   "metadata": {
    "scrolled": false
   },
   "outputs": [],
   "source": [
    "nx = 256\n",
    "period = 2*np.pi\n",
    "\n",
    "@Periodicise(-np.pi, np.pi)\n",
    "@Reflect(\"odd\", 0)\n",
    "def f(x):\n",
    "    return x**2\n",
    "\n",
    "f = np.vectorize(f, otypes=[float])\n",
    "\n",
    "xs = np.linspace(0, period, nx+1)[:-1]\n",
    "ys = f(xs) # Why does this get floored?\n",
    "# Plot beyond our domain (just for demonstration purposes)\n",
    "xps = np.linspace(-2*np.pi, 2*np.pi, 256)\n",
    "yps = f(xps)\n",
    "yft = myfft(ys)\n",
    "fourier_coeffs = anbn(ys)\n",
    "\n",
    "fig, axs = plt.subplots(2, 1, figsize=[14, 8])\n",
    "axs[0].grid()\n",
    "axs[0].plot(xs, ys, \"k\",\n",
    "            xps, yps, 'k:',\n",
    "            xps, partial_fourier_sum(fourier_coeffs, period, 10)(xps), 'r--')\n",
    "\n",
    "\n",
    "axs[1].set(title=\"Fourier coefficients\")\n",
    "axs[1].legend(['cosine', 'sine'])\n",
    "axs[1].set(xlim=[0, 12])\n",
    "axs[1].grid()\n",
    "axs[1].plot(ns, fourier_coeffs[0], 'ko',\n",
    "            ns, fourier_coeffs[1], 'rx')\n",
    "\n",
    "plt.show()"
   ]
  },
  {
   "cell_type": "markdown",
   "metadata": {},
   "source": [
    "## Question 3: Series summation"
   ]
  },
  {
   "cell_type": "code",
   "execution_count": null,
   "metadata": {
    "scrolled": false
   },
   "outputs": [],
   "source": [
    "nx = 256\n",
    "period = 2*np.pi\n",
    "\n",
    "@Periodicise(-np.pi, np.pi)\n",
    "def f(x):\n",
    "    return np.exp(x)\n",
    "\n",
    "f = np.vectorize(f, otypes=[float])\n",
    "\n",
    "xs = np.linspace(0, period, nx+1)[:-1]\n",
    "ys = f(xs) # Why does this get floored?\n",
    "# Plot beyond our domain (just for demonstration purposes)\n",
    "xps = np.linspace(-2*np.pi, 2*np.pi, 256)\n",
    "yps = f(xps)\n",
    "yft = myfft(ys)\n",
    "fourier_coeffs = anbn(ys)\n",
    "\n",
    "fig, axs = plt.subplots(2, 1, figsize=[14, 8])\n",
    "axs[0].grid()\n",
    "axs[0].plot(xs, ys, \"k\",\n",
    "            xps, yps, 'k:',\n",
    "            xps, partial_fourier_sum(fourier_coeffs, period, 10)(xps), 'r--')\n",
    "\n",
    "\n",
    "axs[1].set(title=\"Fourier coefficients\")\n",
    "axs[1].legend(['cosine', 'sine'])\n",
    "axs[1].set(xlim=[0, 12])\n",
    "axs[1].grid()\n",
    "axs[1].plot(ns, fourier_coeffs[0], 'ko',\n",
    "            ns, fourier_coeffs[1], 'rx')\n",
    "\n",
    "plt.show()"
   ]
  },
  {
   "cell_type": "markdown",
   "metadata": {},
   "source": [
    "## Question 5: Square wave"
   ]
  },
  {
   "cell_type": "code",
   "execution_count": null,
   "metadata": {
    "scrolled": false
   },
   "outputs": [],
   "source": [
    "@Periodicise(0, 2*np.pi)\n",
    "def f_unv(x):\n",
    "    return (1 + np.sign(np.sin(x))) / 2 # square wave - Q5\n",
    "\n",
    "f = np.vectorize(f_unv, otypes=[float])\n",
    "nx = 256\n",
    "xmax = 2*np.pi\n",
    "dx = xs[1] - xs[0]\n",
    "nyquist = np.pi / dx \n",
    "ks = np.linspace(0, 2*nyquist, nx+1)[0:-1]\n",
    "ns = ks * xmax / (2*np.pi)\n",
    "\n",
    "xs = np.linspace(0, xmax, nx+1)[:-1]\n",
    "ys = f(xs)\n",
    "yft = myfft(ys)\n",
    "fourier_coeffs = anbn(ys)\n",
    "\n",
    "fig, axs = plt.subplots(figsize=[14, 5])\n",
    "# ax.set(xlim=[0, xmax])\n",
    "axs.grid()\n",
    "axs.plot(xs, ys, \"k\",\n",
    "         xs, partial_fourier_sum(fourier_coeffs, xmax, 20)(xs), 'r--')\n",
    "plt.show()"
   ]
  },
  {
   "cell_type": "markdown",
   "metadata": {},
   "source": [
    "## Bonus: Audio clipping and distortion\n"
   ]
  },
  {
   "cell_type": "code",
   "execution_count": null,
   "metadata": {
    "scrolled": false
   },
   "outputs": [],
   "source": [
    "nx = 256\n",
    "period = 1\n",
    "\n",
    "def Clipping(maxamp=1):\n",
    "    \"\"\"Function decorator that returns a\n",
    "    clipped version of a function.\n",
    "    \"\"\"\n",
    "    def inner(f, x):\n",
    "        y = f(x)\n",
    "        return max(-1, min(1, y))\n",
    "\n",
    "    def clipped(f):\n",
    "        return lambda x: inner(f, x)\n",
    "\n",
    "    return lambda f: clipped(f)\n",
    "\n",
    "@interact(amp=widgets.FloatSlider(min=0, max=1.5, value=0.4))\n",
    "def audio_clipping_demo(amp):\n",
    "    def f_unv(x):\n",
    "        return amp * np.sin(2*np.pi*x)\n",
    "\n",
    "    f_noclip = np.vectorize(f_unv, otypes=[float])\n",
    "    f = np.vectorize(Clipping()(f_noclip))\n",
    "\n",
    "    xs = np.linspace(0, period, nx+1)[:-1]\n",
    "    ys = f(xs) \n",
    "    xps = np.linspace(0, 2*period, 256)\n",
    "    yps = np.array([f_noclip(x) for x in xps])\n",
    "    yft = myfft(ys)\n",
    "    fourier_coeffs = anbn(ys)\n",
    "\n",
    "    fig, axs = plt.subplots(1, 2, figsize=[14, 6])\n",
    "    axs[0].set(xlim=[0, 2*period], ylim=[-1.6, 1.6])\n",
    "    axs[0].grid()\n",
    "    axs[0].plot(xs, ys, \"k\",\n",
    "                xps, yps, 'k--',\n",
    "                xps, partial_fourier_sum(fourier_coeffs, period, 12)(xps), 'r--')\n",
    "\n",
    "\n",
    "    axs[1].set(title=\"Fourier coefficients (abs)\")\n",
    "    axs[1].set(xlim=[0, 12], ylim=[-.1, 1.3])\n",
    "    axs[1].grid()\n",
    "    axs[1].plot(ns[1::2], (fourier_coeffs[1][1::2]), 'r-x')\n",
    "\n",
    "    plt.show()\n"
   ]
  },
  {
   "cell_type": "code",
   "execution_count": null,
   "metadata": {
    "scrolled": true
   },
   "outputs": [],
   "source": []
  },
  {
   "cell_type": "code",
   "execution_count": null,
   "metadata": {},
   "outputs": [],
   "source": []
  }
 ],
 "metadata": {
  "kernelspec": {
   "display_name": "Python 3",
   "language": "python",
   "name": "python3"
  },
  "language_info": {
   "codemirror_mode": {
    "name": "ipython",
    "version": 3
   },
   "file_extension": ".py",
   "mimetype": "text/x-python",
   "name": "python",
   "nbconvert_exporter": "python",
   "pygments_lexer": "ipython3",
   "version": "3.7.5"
  }
 },
 "nbformat": 4,
 "nbformat_minor": 2
}
