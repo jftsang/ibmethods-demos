{
 "cells": [
  {
   "cell_type": "code",
   "execution_count": null,
   "id": "063bc1d5",
   "metadata": {},
   "outputs": [],
   "source": [
    "import numpy as np\n",
    "from scipy.integrate import solve_ivp\n",
    "import matplotlib.pyplot as plt\n",
    "from mpl_toolkits import mplot3d\n",
    "\n",
    "from ipywidgets import interact, interactive, fixed, interact_manual\n",
    "import ipywidgets as widgets"
   ]
  },
  {
   "cell_type": "markdown",
   "id": "5c198870",
   "metadata": {},
   "source": [
    "## Death Star dynamics (Dynamics & Relativity, Sheet 1 Question 4)"
   ]
  },
  {
   "cell_type": "code",
   "execution_count": null,
   "id": "4aea415d",
   "metadata": {},
   "outputs": [],
   "source": [
    "def fun(t, xu, k):\n",
    "    x, u = xu[:3], xu[3:]\n",
    "    return [*u, *(k * np.cross(x, u))]"
   ]
  },
  {
   "cell_type": "code",
   "execution_count": null,
   "id": "08ad040b",
   "metadata": {},
   "outputs": [],
   "source": [
    "@interact(\n",
    "    k=widgets.FloatSlider(min=0, max=30, value=6, continuous_update=False),\n",
    "    r0=widgets.FloatSlider(min=0, max=4, value=1, continuous_update=False),\n",
    "    v0_rad=widgets.FloatSlider(min=0, max=4, value=0.5, continuous_update=False),\n",
    "    v0_perp=widgets.FloatSlider(min=0, max=4, value=2, continuous_update=False),\n",
    ")\n",
    "def death_star_demo(k, r0, v0_rad, v0_perp):\n",
    "    sol = solve_ivp(\n",
    "        fun, (0, 10), \n",
    "        [r0, 0, 0, v0_rad, v0_perp, 0], \n",
    "        args=(k,),\n",
    "#         dense_output=True,\n",
    "        t_eval=np.arange(0, 10, 0.025)\n",
    "    )\n",
    "    assert sol.success, sol.message\n",
    "    xs, ys, zs = sol.y[0, :], sol.y[1, :], sol.y[2, :]\n",
    "    us, vs, ws = sol.y[3, :], sol.y[4, :], sol.y[5, :]\n",
    "\n",
    "    fig = plt.figure(figsize=(14, 8))\n",
    "    ax = fig.add_subplot(121, projection=\"3d\")\n",
    "    ax.plot(xs, ys, zs)\n",
    "    ax.set_xlim((-0.2, 3))\n",
    "    ax.set_ylim((-0.2, 3))\n",
    "    ax.set_zlim((-0.2, 3))\n",
    "\n",
    "    ax = fig.add_subplot(322)\n",
    "    ax.plot(sol.t, xs, 'k', sol.t, ys, 'r', sol.t, zs, 'b')\n",
    "    ax.grid()\n",
    "    ax.legend(('$x$', '$y$', '$z$'))\n",
    "    ax.set_xscale('log')\n",
    "    ax.set_yscale('log')\n",
    "    \n",
    "    ax = fig.add_subplot(324)\n",
    "    ax.plot(sol.t, (xs**2 + ys**2 + zs**2)**0.5, 'k')\n",
    "    ax.legend((r'$|\\mathbf{x}|$',))\n",
    "    ax.grid()\n",
    "    ax.set_xscale('log')\n",
    "    ax.set_yscale('log')\n",
    "    \n",
    "    ax = fig.add_subplot(326)\n",
    "    ax.plot(sol.t, us**2 + vs**2 + ws**2, 'k')\n",
    "    ax.set_ylim((0, 6))\n",
    "    \n",
    "    ax.legend((r'$|\\dot{\\mathbf{x}}|^2$',))\n",
    "\n",
    "    ax.grid()\n",
    "    ax.set_xscale('log')\n",
    "#     ax.set_yscale('log')\n",
    "    ax.set_xlabel('$t$')\n",
    "    \n",
    "    plt.show()"
   ]
  }
 ],
 "metadata": {
  "kernelspec": {
   "display_name": "Python 3 (ipykernel)",
   "language": "python",
   "name": "python3"
  },
  "language_info": {
   "codemirror_mode": {
    "name": "ipython",
    "version": 3
   },
   "file_extension": ".py",
   "mimetype": "text/x-python",
   "name": "python",
   "nbconvert_exporter": "python",
   "pygments_lexer": "ipython3",
   "version": "3.9.9"
  }
 },
 "nbformat": 4,
 "nbformat_minor": 5
}
