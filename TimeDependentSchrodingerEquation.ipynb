{
 "cells": [
  {
   "cell_type": "code",
   "execution_count": null,
   "id": "3932a5eb",
   "metadata": {},
   "outputs": [],
   "source": [
    "! pip install git+https://github.com/endolith/complex_colormap"
   ]
  },
  {
   "cell_type": "code",
   "execution_count": null,
   "id": "698d0239",
   "metadata": {},
   "outputs": [],
   "source": [
    "from time import time\n",
    "\n",
    "import numpy as np\n",
    "from scipy.integrate import solve_ivp\n",
    "\n",
    "import matplotlib.pyplot as plt\n",
    "# from complex_colormap.cplot import cplot\n",
    "\n",
    "from ipywidgets import interact, interactive, fixed, interact_manual\n",
    "import ipywidgets as widgets"
   ]
  },
  {
   "cell_type": "code",
   "execution_count": null,
   "id": "c7810883",
   "metadata": {},
   "outputs": [],
   "source": [
    "xmin = -10\n",
    "xmax = 10\n",
    "dx = 0.1\n",
    "xs = np.arange(xmin, xmax, dx)"
   ]
  },
  {
   "cell_type": "code",
   "execution_count": null,
   "id": "6d3d79f7",
   "metadata": {},
   "outputs": [],
   "source": [
    "psi0 = np.exp(1j * 2 * xs - (xs+4)**2 / (2 * 0.5**2))\n",
    "# psi0 = np.exp(1j * 2 * xs - xs**2 / 2)\n",
    "# psi0 = np.exp(-xs**2/2)\n",
    "\n",
    "psi0 = psi0.astype('D')\n",
    "psi0 /= np.sum(np.abs(psi0)**2 * dx, axis=0) ** 0.5\n",
    "\n",
    "# psi0[0] = psi0[-1] = 0"
   ]
  },
  {
   "cell_type": "code",
   "execution_count": null,
   "id": "8963b14b",
   "metadata": {},
   "outputs": [],
   "source": [
    "def d2x(ys):\n",
    "    return (np.roll(ys, 1) - 2*ys + np.roll(ys, -1)) / dx**2\n",
    "#     return (ys[2:] - 2*ys[1:-1] + ys[:-2])/(dx ** 2)\n",
    "\n",
    "\n",
    "@(lambda f: np.vectorize(f, otypes='D'))\n",
    "def v(x):\n",
    "#     return x**2 / 2\n",
    "    return x**4 / 25 - x**2\n",
    "#     return 0\n",
    "#     return np.where(np.abs(x) < 4, -4, 0)\n",
    "#     return 10 * np.exp(-x**2 / (2 * 0.1**2))\n",
    "\n",
    "\n",
    "def fun(t, psi):\n",
    "    dpsi_dt = -1j * (-(1 / 2) * d2x(psi) + v(xs) * psi) \n",
    "    return dpsi_dt"
   ]
  },
  {
   "cell_type": "code",
   "execution_count": null,
   "id": "1d03b2ed",
   "metadata": {},
   "outputs": [],
   "source": [
    "fig, ax = plt.subplots(figsize=(10, 2))\n",
    "ax.plot(xs, v(xs), xs, psi0)\n",
    "fig.show()"
   ]
  },
  {
   "cell_type": "code",
   "execution_count": null,
   "id": "123a3de9",
   "metadata": {
    "scrolled": true
   },
   "outputs": [],
   "source": [
    "tic = time()\n",
    "sol = solve_ivp(fun, (0, 5), psi0, t_eval=np.linspace(0, 5, 101))\n",
    "toc = time()\n",
    "print(toc - tic)\n",
    "# sol"
   ]
  },
  {
   "cell_type": "code",
   "execution_count": null,
   "id": "c8d751fc",
   "metadata": {
    "scrolled": true
   },
   "outputs": [],
   "source": [
    "# Check normalization\n",
    "fig, ax = plt.subplots(figsize=(7, 2))\n",
    "ax.plot(sol.t, np.sum(np.abs(sol.y)**2 * dx, axis=0))\n",
    "ax.set_ylim((0, 2))\n",
    "plt.show()"
   ]
  },
  {
   "cell_type": "code",
   "execution_count": null,
   "id": "aa51439e",
   "metadata": {},
   "outputs": [],
   "source": [
    "tg, xg = np.meshgrid(sol.t, xs)\n",
    "fig, axs = plt.subplots(1, 2, figsize=(10, 4))\n",
    "pcm0 = axs[0].pcolormesh(xg, tg, np.real(sol.y),\n",
    "              shading='gouraud', cmap='bwr')\n",
    "pcm1 = axs[1].pcolormesh(xg, tg, np.abs(sol.y)**2,\n",
    "                 shading='gouraud', cmap='hot')\n",
    "# pcm2 = axs[2].pcolormesh(xg, tg, np.angle(sol.y),\n",
    "#                  shading='gouraud', cmap='hsv',\n",
    "#                  vmin=-np.pi, vmax=np.pi)"
   ]
  },
  {
   "cell_type": "code",
   "execution_count": null,
   "id": "e919dc82",
   "metadata": {
    "scrolled": true
   },
   "outputs": [],
   "source": [
    "@interact(frame=widgets.IntSlider(min=0, max=100, continuous_update=False))\n",
    "def answer(frame):\n",
    "    ax = plt.gca()\n",
    "    ax.plot(xs, np.real(sol.y[:, 0]),\n",
    "            xs, np.real(sol.y[:, frame]))\n",
    "    ax.set_title(sol.t[frame])\n",
    "    ax.set_ylim((-1, 1))"
   ]
  }
 ],
 "metadata": {
  "kernelspec": {
   "display_name": "Python 3 (ipykernel)",
   "language": "python",
   "name": "python3"
  },
  "language_info": {
   "codemirror_mode": {
    "name": "ipython",
    "version": 3
   },
   "file_extension": ".py",
   "mimetype": "text/x-python",
   "name": "python",
   "nbconvert_exporter": "python",
   "pygments_lexer": "ipython3",
   "version": "3.9.13"
  }
 },
 "nbformat": 4,
 "nbformat_minor": 5
}
