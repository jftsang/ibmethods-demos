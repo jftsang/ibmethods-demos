{
 "cells": [
  {
   "cell_type": "markdown",
   "metadata": {},
   "source": [
    "# Differential operators as matrices\n",
    "\n",
    "Differential operators are linear operators on vector fields of functions. They have many similar properties to matrices on finite-dimensional vector spaces. Indeed, if a function $y(x)$ is sampled at discrete points with values $y_n$, then the approximations to $y'$, $y''$ are created by multiplying the vector $(y_n)$ with a difference matrix.\n",
    "\n",
    "In particular, the eigenvalues and eigenfunctions of an operator can be approximated by looking at the eigenvalues and eigenvectors of the discretised matrix operator. This can be done numerically using methods such as `eig` from the `scipy` package: see [its documentation](https://docs.scipy.org/doc/scipy/reference/generated/scipy.linalg.eig.html) for information about its algorithm. (We are only interested in self-adjoint operators. When discretised, they become Hermitian matrices.) Note that most such algorithms return the eigenvectors as normalised vectors; their actual magnitude when interpreted as functions needs to be scaled by $\\sqrt{N}$, where $N$ is the number of gridpoints."
   ]
  },
  {
   "cell_type": "code",
   "execution_count": null,
   "metadata": {},
   "outputs": [],
   "source": [
    "import numpy as np\n",
    "from numpy import pi\n",
    "from numpy import sqrt, sin, cos, tan, sinh, cosh, exp, dot\n",
    "# from numpy.linalg import eig, eigh\n",
    "from scipy.linalg import eig, eigh\n",
    "import matplotlib.pyplot as plt\n",
    "from ipywidgets import interact, interactive, fixed, interact_manual\n",
    "import ipywidgets as widgets"
   ]
  },
  {
   "cell_type": "code",
   "execution_count": null,
   "metadata": {},
   "outputs": [],
   "source": [
    "def discretise(xa, xb, nx=101, bcs=\"periodic\"):\n",
    "    \"\"\"Returns the xs, the spacing dx between the xs,\n",
    "    and the identity and first and second derivative\n",
    "    matrices, computed using a 2nd-order scheme.\"\"\"\n",
    "    xs = np.linspace(xa, xb, nx)\n",
    "    dx = xs[1] - xs[0]\n",
    "\n",
    "    eye = np.eye(nx)\n",
    "    \n",
    "    # Use central finite differences\n",
    "    ddx = (np.roll(eye, 1, 1) - np.roll(eye, -1, 1)) / (2*dx)\n",
    "    d2dx2 = (np.roll(eye, 1, 1) - 2*eye + np.roll(eye, -1, 1)) / (dx*dx)\n",
    "    \n",
    "    if bcs == \"periodic\":\n",
    "        pass\n",
    "    elif bcs == \"dirichlet\":\n",
    "        # Use forward or backward schemes\n",
    "        # Would it help to use 3rd-order scheme at boundaries?\n",
    "        ddx[0, 4:] = 0; ddx[0, :4] = (-11/6, 3, -3/2, 1/3) / dx\n",
    "        ddx[-1, :-4] = 0; ddx[-1, -4:] = (-1/3, 3/2, -3, 11/6) / dx\n",
    "        \n",
    "        d2dx2[0, 4:] = 0; d2dx2[0, :4] = (2, -5, 4, -1) / (dx*dx)\n",
    "        d2dx2[-1, :-4] = 0; d2dx2[-1, -4:] = (-1, 4, -5, 2) / (dx*dx)\n",
    "    \n",
    "    elif bcs == \"neumann\":\n",
    "        # Use forward or backward schemes\n",
    "        eye[0, 0] = dx*dx; eye[-1, -1] = dx*dx\n",
    "        ddx[0, 4:] = 0; ddx[0, :4] = (-11/6, 3, -3/2, 1/3) / dx\n",
    "        ddx[-1, :-4] = 0; ddx[-1, -4:] = (-1/3, 3/2, -3, 11/6) / dx\n",
    "        \n",
    "        d2dx2[0, 4:] = 0; d2dx2[0, :4] = (2, -5, 4, -1) / (dx*dx)\n",
    "        d2dx2[-1, :-4] = 0; d2dx2[-1, -4:] = (-1, 4, -5, 2) / (dx*dx)\n",
    "    \n",
    "    else:\n",
    "        raise ValueError(\"Unsupported BCs\")\n",
    "    \n",
    "    return xs, dx, eye, ddx, d2dx2\n",
    "\n",
    "def myeig(op, eye, *args, **kwargs):\n",
    "    nx = op.shape[0]\n",
    "    eigvals, eigvecs = eig(op, eye, *args, **kwargs)\n",
    "    ordering = sorted(range(nx), key=lambda i: np.real(eigvals)[i])\n",
    "    eigvals = eigvals[ordering]\n",
    "    eigvecs = eigvecs[:, ordering] * sqrt(nx)\n",
    "    return eigvals, eigvecs"
   ]
  },
  {
   "cell_type": "markdown",
   "metadata": {},
   "source": [
    "## The harmonic functions\n",
    "These are the eigenfunctions of the operator $-D^2$, subject to either Dirichlet or Neumann boundary conditions."
   ]
  },
  {
   "cell_type": "code",
   "execution_count": null,
   "metadata": {
    "scrolled": false
   },
   "outputs": [],
   "source": [
    "xa = 0; xb = pi; nx = 101;\n",
    "xs, dx, eye, ddx, d2dx2 = discretise(xa, xb, nx)\n",
    "\n",
    "op = -d2dx2; \n",
    "op[0, :] = 0;\n",
    "op[-1, :] = 0;\n",
    "# op[0, 0:3] = (-3/2, 2, -1/2)/(dx*dx)\n",
    "# # op[0, 0:2] = (-1, 1)/(dx*dx*dx)\n",
    "# op[-1, -1] = 1/(dx*dx)\n",
    "eye[0, 3:] = 0; eye[0, :3] = (3/2, -2, 1/2) / dx;\n",
    "eigvals, eigvecs = myeig(op, eye)\n",
    "\n",
    "@interact(mode=widgets.IntSlider(min=0, max=20, continuous_update=True))\n",
    "def harmfun(mode):\n",
    "    plt.plot(xs, np.real(eigvecs[:, mode]) * np.sign(np.real(eigvecs[0, mode])))\n",
    "    plt.gca().set(title=f\"E = %.2f\" % eigvals[mode], \n",
    "                  xlim=[xa, xb], ylim=[-2, 2])\n",
    "    plt.gca().grid()"
   ]
  },
  {
   "cell_type": "markdown",
   "metadata": {},
   "source": [
    "## The quantum harmonic oscillator\n",
    "\n",
    "In suitable units, the time-independent Schrodinger equation for the wavefunction in a harmonic potential is \n",
    "$$ -y'' + x^2 y = E y.$$\n",
    "The possible energy levels $E$ are the eigenvalues of the operator $-D^2 + x^2$. The operator 'multiply by $x^2$' is represented as a diagonal matrix whose elements are $x_n^2$, where $x_n$ are the gridpoints of the discretisation."
   ]
  },
  {
   "cell_type": "code",
   "execution_count": null,
   "metadata": {
    "scrolled": true
   },
   "outputs": [],
   "source": [
    "xa = -10; xb = 10; nx = 501;\n",
    "xs, dx, eye, ddx, d2dx2 = discretise(xa, xb, nx)\n",
    "d2dx2[0, :] = 0; d2dx2[-1, :] = 0 # impose boundary conditions\n",
    "eigvals, eigvecs = eigh(-d2dx2 + np.diag(xs**2))\n",
    "# eigvals, eigvecs = eigh(-d2dx2)\n",
    "\n",
    "@interact(mode=widgets.IntSlider(min=0, max=12))\n",
    "def qhoplot(mode):\n",
    "    # TODO what's up with the first mode? \n",
    "    # I think we aren't imposing BCs correctly.\n",
    "    plt.plot(xs, eigvecs[:, mode+1])\n",
    "    plt.gca().set(title=f\"E = %.2f\" % eigvals[mode+1], \n",
    "                  xlim=[-10, 10], ylim=[-.16, .16])\n",
    "    plt.gca().grid()\n",
    "#     plt.plot(eigvals[:mode], 'x')"
   ]
  },
  {
   "cell_type": "markdown",
   "metadata": {},
   "source": [
    "## Airy functions"
   ]
  },
  {
   "cell_type": "code",
   "execution_count": null,
   "metadata": {},
   "outputs": [],
   "source": [
    "xa = -20; xb = 20; nx = 501;\n",
    "xs, dx, eye, ddx, d2dx2 = discretise(xa, xb, nx)\n",
    "# d2dx2[0, :] = 0; d2dx2[-1, :] = 0 # impose boundary conditions\n",
    "eigvals, eigvecs = eigh(-d2dx2 + np.diag(xs))\n",
    "# eigvals, eigvecs = eigh(-d2dx2)\n",
    "\n",
    "@interact(mode=widgets.IntSlider(min=6, max=37, continuous_update=False))\n",
    "def airy(mode):\n",
    "    # TODO what's up with the first mode? \n",
    "    # I think we aren't imposing BCs correctly.\n",
    "    plt.plot(xs, eigvecs[:, mode+1])\n",
    "    plt.gca().set(title=f\"E = %.2f\" % eigvals[mode+1], \n",
    "                  xlim=[-10, 10], ylim=[-.16, .16])\n",
    "    plt.gca().grid()\n",
    "#     plt.plot(eigvals[:mode], 'x')"
   ]
  },
  {
   "cell_type": "markdown",
   "metadata": {},
   "source": [
    "## Sheet 1, question 7\n",
    "\n",
    "$$ y'' + 4y' + 4y = -\\lambda y $$\n",
    "\n",
    "so the operator of interest is $D^2 + 4D + 4I$. Note that this is _not_ a self-adjoint operator, so we'll need to use the `eig` solver, not `eigh`."
   ]
  },
  {
   "cell_type": "code",
   "execution_count": null,
   "metadata": {},
   "outputs": [],
   "source": [
    "xa = 0; xb = 1; nx = 301;\n",
    "xs, dx, eye, ddx, d2dx2 = discretise(xa, xb, nx)\n",
    "d2dx2[0, :] = 0; d2dx2[-1, :] = 0"
   ]
  },
  {
   "cell_type": "code",
   "execution_count": null,
   "metadata": {
    "scrolled": true
   },
   "outputs": [],
   "source": [
    "eigvals, eigvecs = eig(d2dx2 + 4*ddx + 4*eye)\n",
    "eigvals = -eigvals\n",
    "# eigvals, eigvecs = eigh(-d2dx2)\n",
    "\n",
    "@interact(mode=widgets.IntSlider(min=0, max=12))\n",
    "def s1q7_plot_notsl(mode):\n",
    "    # TODO what's up with the first mode? \n",
    "    # I think we aren't imposing BCs correctly.\n",
    "    plt.plot(xs[0::2], \n",
    "             eigvecs[0::2, mode+1] * sqrt(nx) * np.sign(eigvecs[2, mode+1]))\n",
    "    plt.gca().set(title=f\"E = %.2f\" % eigvals[-mode-2], \n",
    "                  xlim=[0, 1], ylim=[-3, 3])\n",
    "    plt.gca().grid()\n",
    "#     plt.plot(eigvals[:mode], 'x')"
   ]
  },
  {
   "cell_type": "markdown",
   "metadata": {},
   "source": [
    "We can turn the equation into a self-adjoint equation by multiplying through by the integrating factor $p(x) = \\exp(4x)$, to get\n",
    "\n",
    "$$ (py')' + 4py = -\\lambda py. $$\n",
    "\n",
    "As a matrix equation, this becomes\n",
    "\n",
    "$$ \n",
    "(DPD + 4P)y = -\\lambda Py,\n",
    "$$\n",
    "a generalised eigenvector problem. As in the QHO example, $P$ is a diagonal matrix whose elements are $p(x_n) = \\exp(4x_n)$, representing multiplication by $p(x)$. So, recasting in Sturm-Liouville form is akin to diagonalising a matrix."
   ]
  },
  {
   "cell_type": "code",
   "execution_count": null,
   "metadata": {},
   "outputs": [],
   "source": [
    "p_mat = np.diag(exp(4*xs))\n",
    "eigvals, eigvecs = eigh(ddx @ p_mat @ ddx + 4 * p_mat, p_mat)\n",
    "eigvals = -eigvals"
   ]
  },
  {
   "cell_type": "code",
   "execution_count": null,
   "metadata": {},
   "outputs": [],
   "source": [
    "@interact(mode=widgets.IntSlider(min=0, max=12))\n",
    "def s1q7_plot_sl(mode):\n",
    "    # TODO what's up with the first mode? \n",
    "    # I think we aren't imposing BCs correctly.\n",
    "    plt.plot(xs[0::4], eigvecs[0::4, 2*mode+2] * sqrt(nx) * np.sign(eigvecs[4, 2*mode+2]))\n",
    "    plt.gca().set(title=f\"E = %.2f\" % eigvals[-2*mode-4], \n",
    "                  xlim=[0, 1], ylim=[-1, 1])\n",
    "    plt.gca().grid()\n",
    "#     plt.plot(eigvals[:mode], 'x')"
   ]
  },
  {
   "cell_type": "markdown",
   "metadata": {},
   "source": [
    "## Sheet 1, question 8: Bessel functions"
   ]
  },
  {
   "cell_type": "code",
   "execution_count": null,
   "metadata": {},
   "outputs": [],
   "source": [
    "xa = 0; xb = 10; nx = 101;\n",
    "xs, dx, eye, ddx, d2dx2 = discretise(xa, xb, nx)\n",
    "\n",
    "x_mat = np.diag(xs)\n",
    "bessel_operator = -dot(x_mat, d2dx2) - ddx\n",
    "bessel_operator[0, :] = 0\n",
    "bessel_operator[-1, :] = 0\n",
    "eye = x_mat;\n",
    "eye[0, :2] = (-1, 1)\n",
    "eye[-1, -1] = 1\n",
    "\n",
    "eigvals, eigvecs = myeig(bessel_operator, eye)\n",
    "# eigvals = -eigvals\n",
    "# eigvals, eigvecs = eigh(-d2dx2)\n",
    "\n",
    "@interact(mode=widgets.IntSlider(min=0, max=12))\n",
    "def s1q8_plot_notsl(mode):\n",
    "    # TODO what's up with the first mode? \n",
    "    # I think we aren't imposing BCs correctly.\n",
    "    plt.plot(xs, eigvecs[:, mode+2] / eigvecs[0, mode+2])\n",
    "    plt.gca().set(title=f\"E = %.2f\" % eigvals[mode+2], \n",
    "                  xlim=[xa, xb], ylim=[-1.1, 1.1])\n",
    "    plt.gca().grid()\n",
    "#     plt.plot(eigvals[:mode], 'x')"
   ]
  },
  {
   "cell_type": "markdown",
   "metadata": {},
   "source": [
    "## Sheet 1, question 9: Higher-order self-adjoint form\n",
    "\n",
    "The differential operator of interest here is simply $D^4$. "
   ]
  },
  {
   "cell_type": "code",
   "execution_count": null,
   "metadata": {},
   "outputs": [],
   "source": [
    "def d4dx4_mat(nx, dx=1, bcs=\"dirichlet\"):\n",
    "    eye = np.eye(nx)\n",
    "    d4dx4 = (np.roll(eye, 2, 1) - 4*np.roll(eye, 1, 1) + 6*eye \n",
    "                 - 4*np.roll(eye, -1, 1) + np.roll(eye, -2, 1)) / dx**4\n",
    "    \n",
    "    if bcs == \"dirichlet\":\n",
    "        d4dx4[0, :] = 0;\n",
    "        d4dx4[0, :5] = (1, -4, 6, -4, 1) / dx**4\n",
    "        d4dx4[1, :] = 0;\n",
    "        d4dx4[-2, :] = 0;\n",
    "        d4dx4[-1, :] = 0;\n",
    "    elif bcs == \"periodic\":\n",
    "        pass\n",
    "    else:\n",
    "        raise ValueError\n",
    "        \n",
    "    return d4dx4"
   ]
  },
  {
   "cell_type": "code",
   "execution_count": null,
   "metadata": {},
   "outputs": [],
   "source": [
    "xa = 0.0; xb = 1; nx = 257;\n",
    "xs, dx, eye, ddx, d2dx2 = discretise(xa, xb, nx)\n",
    "d2dx2[0, :] = 0; d2dx2[-1, :] = 0\n",
    "eigvals, eigvecs = eigh(d4dx4_mat(nx, dx, \"dirichlet\"))\n",
    "\n",
    "@interact(mode=widgets.IntSlider(min=1, max=12, continuous_update=False))\n",
    "def s1q9_plot_sl(mode):\n",
    "    fig, axs = plt.subplots(1, 2, figsize=[14, 4])\n",
    "    axs[0].plot(range(1,18), eigvals[3:20] ** (1/4), 'kx')\n",
    "    axs[0].set_xlabel('n')\n",
    "    axs[0].set_ylabel('lambda_n ^ (1/4)')\n",
    "    axs[0].grid()\n",
    "    axs[0].set_title('lambda_n = O(n^4)')\n",
    "    \n",
    "    axs[1].plot(xs, eigvecs[:, mode+2] * sqrt(nx) * np.sign(eigvecs[128, mode+2]))\n",
    "    axs[1].set(title=f\"lambda = %.2f\" % eigvals[mode+2], \n",
    "                  xlim=[0, 1], ylim=[-6, 6])\n",
    "    axs[1].grid()\n",
    "#     plt.plot(eigvals[:mode], 'x')"
   ]
  },
  {
   "cell_type": "code",
   "execution_count": null,
   "metadata": {},
   "outputs": [],
   "source": [
    "plt.plot(np.real(eigvals))"
   ]
  },
  {
   "cell_type": "code",
   "execution_count": null,
   "metadata": {},
   "outputs": [],
   "source": []
  }
 ],
 "metadata": {
  "kernelspec": {
   "display_name": "Python 3",
   "language": "python",
   "name": "python3"
  },
  "language_info": {
   "codemirror_mode": {
    "name": "ipython",
    "version": 3
   },
   "file_extension": ".py",
   "mimetype": "text/x-python",
   "name": "python",
   "nbconvert_exporter": "python",
   "pygments_lexer": "ipython3",
   "version": "3.7.5"
  }
 },
 "nbformat": 4,
 "nbformat_minor": 4
}
