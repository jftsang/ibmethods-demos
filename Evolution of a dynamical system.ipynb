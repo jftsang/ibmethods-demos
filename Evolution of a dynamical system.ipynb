{
 "cells": [
  {
   "cell_type": "markdown",
   "metadata": {},
   "source": [
    "# Evolution of dynamical systems and sensitivity to initial conditions"
   ]
  },
  {
   "cell_type": "code",
   "execution_count": null,
   "metadata": {},
   "outputs": [],
   "source": [
    "from functools import cache\n",
    "from itertools import product\n",
    "import matplotlib.pyplot as plt\n",
    "import numpy as np\n",
    "import random\n",
    "from scipy.integrate import solve_ivp\n",
    "\n",
    "from ipywidgets import interact, interactive, fixed, interact_manual\n",
    "import ipywidgets as widgets"
   ]
  },
  {
   "cell_type": "markdown",
   "metadata": {},
   "source": [
    "## Lotka Volterra (Mathematical Biology Sheet 1 Question 7)"
   ]
  },
  {
   "cell_type": "code",
   "execution_count": null,
   "metadata": {},
   "outputs": [],
   "source": [
    "def lotka_volterra(t, y, rho, b12, b21):\n",
    "    n1, n2 = y\n",
    "    n1_dot = n1 * (1 - n1 - b12 * n2)\n",
    "    n2_dot = rho * n2 * (1 - b21 * n1 - n2)\n",
    "    return [n1_dot, n2_dot]"
   ]
  },
  {
   "cell_type": "code",
   "execution_count": null,
   "metadata": {},
   "outputs": [],
   "source": [
    "@interact(rho=widgets.FloatSlider(min=0, max=3, value=1, continuous_update=False),\n",
    "          b12=widgets.FloatSlider(min=0, max=2, value=1.5, continuous_update=False),\n",
    "          b21=widgets.FloatSlider(min=0, max=2, value=0.5, continuous_update=False))\n",
    "def lvdemo(rho, b12, b21):\n",
    "    x_range = [0, 1.5]\n",
    "    y_range = [0, 1.5]\n",
    "    tf = 5\n",
    "    initial_states = [(x, y)\n",
    "                      for x in np.linspace(*x_range, 9) \n",
    "                      for y in np.linspace(*y_range, 9)]\n",
    "    sols = [solve_ivp(lotka_volterra,\n",
    "                      [0, tf],\n",
    "                      i,\n",
    "                      t_eval=np.linspace(0, tf, int(tf*50)),\n",
    "                      args=(rho, b12, b21))\n",
    "            for i in initial_states]\n",
    "\n",
    "    fig = plt.figure(figsize=(8, 8))\n",
    "    arrowlen = 0.05\n",
    "    for s in sols:\n",
    "        t, n1, n2 = s.t, s.y[0, :], s.y[1, :]\n",
    "        plt.scatter(n1, n2,\n",
    "                    s=np.linspace(1, 5, len(n1)),\n",
    "                    c=t,\n",
    "                    cmap='viridis'\n",
    "        )\n",
    "\n",
    "    ax = plt.gca()\n",
    "    ax.set_xlabel('n1')\n",
    "    ax.set_ylabel('n2')\n",
    "    plt.show()"
   ]
  },
  {
   "cell_type": "markdown",
   "metadata": {},
   "source": [
    "## SIR model"
   ]
  },
  {
   "cell_type": "code",
   "execution_count": null,
   "metadata": {},
   "outputs": [],
   "source": [
    "def sir(t, y, delta):\n",
    "    susc, inf = y\n",
    "    return [-susc * inf, susc * inf - delta * inf]"
   ]
  },
  {
   "cell_type": "code",
   "execution_count": null,
   "metadata": {},
   "outputs": [],
   "source": [
    "@interact(delta=widgets.FloatSlider(min=0, max=2, value=1, continuous_update=False))\n",
    "def sir_demo(delta):\n",
    "    x_range = [0, 1]\n",
    "    y_range = [0, 1]\n",
    "    tf = 10\n",
    "    initial_states = [(susc, 1 - susc)\n",
    "                      for susc in np.linspace(*x_range, 21)]\n",
    "    sols = [solve_ivp(sir, [0, tf], i,\n",
    "                      t_eval=np.linspace(0, tf, int(tf*50)),\n",
    "                     args=(delta,))\n",
    "            for i in initial_states]\n",
    "\n",
    "    fig = plt.figure(figsize=(8, 8))\n",
    "    arrowlen = 0.05\n",
    "    for s in sols:\n",
    "        t, susc, inf = s.t, s.y[0, :], s.y[1, :]\n",
    "        plt.scatter(susc, inf,\n",
    "            s=np.linspace(1, 30, len(t)),\n",
    "            c=t, cmap='viridis'\n",
    "        )\n",
    "\n",
    "        dx, dy = sir(0, [susc[0], inf[0]], delta)\n",
    "        plt.arrow(susc[0] - .5*arrowlen*dx,\n",
    "                  inf[0] - .5*arrowlen*dy,\n",
    "                  arrowlen*dx,\n",
    "                  arrowlen*dy,\n",
    "                  color='black')\n",
    "\n",
    "        dx, dy = sir(tf, [susc[-1], inf[-1]], delta)\n",
    "        plt.arrow(susc[-1] - .5*arrowlen*dx,\n",
    "                  inf[-1] - .5*arrowlen*dy,\n",
    "                  arrowlen*dx,\n",
    "                  arrowlen*dy,\n",
    "                  color='blue')\n",
    "\n",
    "    ax = plt.gca()\n",
    "    ax.set_aspect('equal', adjustable='box')\n",
    "    ax.set_xlim(x_range)\n",
    "    ax.set_ylim(y_range)\n",
    "    # ax.grid(color='black')\n",
    "    plt.show()"
   ]
  }
 ],
 "metadata": {
  "kernelspec": {
   "display_name": "Python 3 (ipykernel)",
   "language": "python",
   "name": "python3"
  },
  "language_info": {
   "codemirror_mode": {
    "name": "ipython",
    "version": 3
   },
   "file_extension": ".py",
   "mimetype": "text/x-python",
   "name": "python",
   "nbconvert_exporter": "python",
   "pygments_lexer": "ipython3",
   "version": "3.9.9"
  }
 },
 "nbformat": 4,
 "nbformat_minor": 4
}
