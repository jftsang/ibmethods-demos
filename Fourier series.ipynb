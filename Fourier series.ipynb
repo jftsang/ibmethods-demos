{
 "cells": [
  {
   "cell_type": "markdown",
   "metadata": {},
   "source": [
    "# Fourier series"
   ]
  },
  {
   "cell_type": "code",
   "execution_count": null,
   "metadata": {
    "scrolled": false
   },
   "outputs": [],
   "source": [
    "import numpy as np\n",
    "import matplotlib.pyplot as plt\n",
    "\n",
    "from ipywidgets import interact, interactive, fixed, interact_manual\n",
    "import ipywidgets as widgets\n",
    "\n",
    "from decorators import Periodicise, Reflect, Clipping"
   ]
  },
  {
   "cell_type": "code",
   "execution_count": null,
   "metadata": {
    "scrolled": false
   },
   "outputs": [],
   "source": [
    "def myfft(ys):\n",
    "    \"\"\"Our FFT convention that we will use in this course.\n",
    "    Note that conventions vary between packages and authors\n",
    "    over the normalisation.\n",
    "    For this course, we want our FFTs to be independent of\n",
    "    the sample rate, so we'll normalise by multiplying by 2/nx.\n",
    "    \"\"\"\n",
    "    return np.fft.fft(ys, norm=None) * (2/len(ys))\n",
    "\n",
    "def anbn(ys):\n",
    "    \"\"\"Return two arrays, the cosine and sine coefficients.\n",
    "    Note that the 0-frequency term in the series (in this course's\n",
    "    convention) is a0/2.\"\"\"\n",
    "    ft = myfft(ys)\n",
    "    ans = np.real(ft)\n",
    "    bns = -np.imag(ft)\n",
    "    return np.array([ans, bns])\n",
    "\n",
    "def partial_fourier_sum(fourier_coeffs, period, nterms=5):\n",
    "    an, bn = fourier_coeffs\n",
    "    def Sn(x):\n",
    "        psum = an[0]/2\n",
    "        for i in range(1, nterms+1):\n",
    "            psum += an[i]*np.cos(i*2*np.pi*x / period)\n",
    "            psum += bn[i]*np.sin(i*2*np.pi*x / period)\n",
    "        return psum\n",
    "    return Sn\n",
    "\n",
    "def bandpass(fourier_coeffs, period, band):\n",
    "    an, bn = fourier_coeffs\n",
    "    def Sn(x):\n",
    "        psum = an[0]/2\n",
    "        for i in band:\n",
    "            psum += an[i]*np.cos(i*2*np.pi*x / period)\n",
    "            psum += bn[i]*np.sin(i*2*np.pi*x / period)\n",
    "        return psum\n",
    "    return Sn"
   ]
  },
  {
   "cell_type": "code",
   "execution_count": null,
   "metadata": {
    "scrolled": false
   },
   "outputs": [],
   "source": [
    "# The domain (we'll go from 0 to xmax, and may need\n",
    "# to periodicise or translate our function if it was\n",
    "# originally defined on a different domain)\n",
    "nx = 256\n",
    "xmax = 2*np.pi\n",
    "dx = xmax/nx\n",
    "\n",
    "# Angular wavenumbers (or frequency). Angular, so 2pis in numerator.\n",
    "# The wavenumbers in principle go up to 2pi/dx,\n",
    "# but actually only half of these carry any physical information,\n",
    "# up to the Nyquist frequency of 2pi / (2dx).\n",
    "nyquist = np.pi / dx \n",
    "ks = np.linspace(0, 2*nyquist, nx+1)[0:-1]\n",
    "\n",
    "# For looking at Fourier series coefficients, we'll multiply by L/(2pi)\n",
    "# to get the integer wavenumbers.\n",
    "ns = ks * xmax / (2*np.pi)"
   ]
  },
  {
   "cell_type": "markdown",
   "metadata": {},
   "source": [
    "# Question 1"
   ]
  },
  {
   "cell_type": "code",
   "execution_count": null,
   "metadata": {},
   "outputs": [],
   "source": [
    "nx = 256\n",
    "period = 2\n",
    "\n",
    "@Periodicise(-1, 1)\n",
    "# @Reflect(\"odd\", 0)\n",
    "def f_unv(x):\n",
    "    return (x**2 - 1)**2 # Q1\n",
    "f = np.vectorize(f_unv, otypes=[float])\n",
    "# Note need to specify float explicitly when vectorizing\n",
    "# (otherwise, type determined automatically from the first output)\n",
    "\n",
    "# We'll take the domain to be from 0 to 2 instead of -1 to 1.\n",
    "# Doesn't matter, since the function is periodic anyway.\n",
    "xs = np.linspace(0, period, nx+1)[:-1]\n",
    "ys = f(xs) # Why does this get floored?\n",
    "# Plot beyond our domain (just for demonstration purposes)\n",
    "xps = np.linspace(-2, 2, 256)\n",
    "yps = np.array([f(x) for x in xps])\n",
    "\n",
    "fig, axs = plt.subplots(2, 1, figsize=[14, 8])\n",
    "axs[0].grid()\n",
    "axs[0].plot(xs, ys, \"k\",\n",
    "        xps, yps, 'k--')\n",
    "\n",
    "yft = myfft(ys)\n",
    "fourier_coeffs = anbn(ys)\n",
    "\n",
    "axs[1].set(title=\"Fourier coefficients\")\n",
    "axs[1].legend(['cosine', 'sine'])\n",
    "axs[1].set(xlim=[0, 12])\n",
    "axs[1].grid()\n",
    "axs[1].plot(ns, fourier_coeffs[0], 'ko',\n",
    "            ns, fourier_coeffs[1], 'rx')\n",
    "\n",
    "plt.show()"
   ]
  },
  {
   "cell_type": "code",
   "execution_count": null,
   "metadata": {},
   "outputs": [],
   "source": [
    "@interact(num=widgets.IntSlider(min=1, max=3))\n",
    "def q1_partial_sums(num):\n",
    "    fig, axs = plt.subplots(figsize=[14, 5])\n",
    "    axs.set(title=\"Partial sums of the Fourier series\")\n",
    "    axs.grid()\n",
    "    axs.plot(xps, yps, \"k\",\n",
    "             xps, partial_fourier_sum(fourier_coeffs, period, num)(xps), 'r--')\n",
    "    axs.set(ylim=[-0.1, 1.1])\n",
    "    plt.show()"
   ]
  },
  {
   "cell_type": "markdown",
   "metadata": {},
   "source": [
    "## Question 2: Half-range series\n",
    "\n",
    "When a function $f$ is extended beyond its original domain, it or its derivatives may become discontinuous. In this case the Fourier series of $f$ may have very poor convergence properties at the endpoints (Gibbs phenomenon). Moreover, the term-by-term derivative of the extension may be very different from the Fourier series of the extension itself. \n",
    "\n",
    "In particular, if the extension of $f$ has a discontinuity (usually at the endpoints of the extended domain), then the term-by-term derivative at that point would diverge to $\\pm\\infty$, even if the extension of the derivative is continuous."
   ]
  },
  {
   "cell_type": "code",
   "execution_count": null,
   "metadata": {
    "scrolled": false
   },
   "outputs": [],
   "source": [
    "nx = 256\n",
    "period = 2*np.pi\n",
    "\n",
    "@interact(num_terms=widgets.IntSlider(min=1, max=12, continuous_update=False),\n",
    "          symmetry={\"even\": 1, \"odd\": -1})\n",
    "def q2demo(num_terms, symmetry):\n",
    "    @Periodicise(-np.pi, np.pi)\n",
    "    @Reflect(symmetry, 0)\n",
    "    def f(x):\n",
    "        return x**2\n",
    "    \n",
    "    @Periodicise(-np.pi, np.pi)\n",
    "    @Reflect(-symmetry, 0)\n",
    "    def dfdx(x):\n",
    "        return 2*x\n",
    "\n",
    "    f = np.vectorize(f, otypes=[float])\n",
    "    dfdx = np.vectorize(dfdx, otypes=[float])\n",
    "\n",
    "    xs = np.linspace(0, period, nx+1)[:-1]\n",
    "    ys = f(xs) # Why does this get floored?\n",
    "    # Plot beyond our domain (just for demonstration purposes)\n",
    "    xps = np.linspace(-2*np.pi, 2*np.pi, 256)\n",
    "    yps = f(xps)\n",
    "    dydxps = dfdx(xps)\n",
    "    \n",
    "    yft = myfft(ys)\n",
    "    fourier_coeffs = anbn(ys)\n",
    "\n",
    "    fig, axs = plt.subplots(3, 1, figsize=[14, 8])\n",
    "    axs[0].grid()\n",
    "    axs[0].plot(xs, f(xs), \"k\",\n",
    "                xps, f(xps), 'k:',\n",
    "                xps, partial_fourier_sum(fourier_coeffs, period, num_terms)(xps), 'r--')\n",
    "    axs[0].set_title('Partial sums of the Fourier series')\n",
    "    \n",
    "    \n",
    "    def partial_fourier_sum_termwise_deriv(fourier_coeffs, period, nterms=5):\n",
    "        an, bn = fourier_coeffs\n",
    "        def Sn(x):\n",
    "            psum = 0\n",
    "            for i in range(1, nterms+1):\n",
    "                psum += -i*2*np.pi/period * an[i]*np.sin(i*2*np.pi*x / period)\n",
    "                psum += i*2*np.pi/period *  bn[i]*np.cos(i*2*np.pi*x / period)\n",
    "            return psum\n",
    "        return Sn\n",
    "    \n",
    "    axs[1].grid()\n",
    "    axs[1].plot(xs, dfdx(xs), \"k\",\n",
    "                xps, dfdx(xps), 'k:',\n",
    "                xps, partial_fourier_sum_termwise_deriv(fourier_coeffs,\n",
    "                                         period, num_terms)(xps), 'r--')\n",
    "    axs[1].set_title('Partial sums of the term-by-term derivatives of the Fourier series')\n",
    "\n",
    "    axs[2].set(title=\"Fourier coefficients\")\n",
    "    axs[2].legend(['cosine', 'sine'])\n",
    "    axs[2].set(xlim=[0, 12])\n",
    "    axs[2].grid()\n",
    "    if symmetry == \"even\":\n",
    "        axs[2].plot(ns, fourier_coeffs[0], 'ko-')\n",
    "    else:\n",
    "        axs[2].plot(ns, fourier_coeffs[1], 'rx-')\n",
    "\n",
    "    plt.show()"
   ]
  },
  {
   "cell_type": "markdown",
   "metadata": {},
   "source": [
    "## Question 3: Series summation"
   ]
  },
  {
   "cell_type": "code",
   "execution_count": null,
   "metadata": {
    "scrolled": false
   },
   "outputs": [],
   "source": [
    "nx = 256\n",
    "period = 2*np.pi\n",
    "\n",
    "@Periodicise(-np.pi, np.pi)\n",
    "def f(x):\n",
    "    return np.exp(x)\n",
    "\n",
    "f = np.vectorize(f, otypes=[float])\n",
    "\n",
    "xs = np.linspace(0, period, nx+1)[:-1]\n",
    "ys = f(xs) # Why does this get floored?\n",
    "# Plot beyond our domain (just for demonstration purposes)\n",
    "xps = np.linspace(-2*np.pi, 2*np.pi, 256)\n",
    "yps = f(xps)\n",
    "yft = myfft(ys)\n",
    "fourier_coeffs = anbn(ys)\n",
    "\n",
    "fig, axs = plt.subplots(2, 1, figsize=[14, 8])\n",
    "axs[0].grid()\n",
    "axs[0].plot(xs, ys, \"k\",\n",
    "            xps, yps, 'k:',\n",
    "            xps, partial_fourier_sum(fourier_coeffs, period, 10)(xps), 'r--')\n",
    "\n",
    "\n",
    "axs[1].set(title=\"Fourier coefficients\")\n",
    "axs[1].set(xlim=[0, 12])\n",
    "axs[1].grid()\n",
    "axs[1].plot(ns, fourier_coeffs[0], 'ko-',\n",
    "            ns, fourier_coeffs[1], 'rx-')\n",
    "axs[1].legend(['cosine', 'sine'])\n",
    "\n",
    "plt.show()"
   ]
  },
  {
   "cell_type": "markdown",
   "metadata": {},
   "source": [
    "## Question 5: Square wave and the Gibbs phenomenon\n",
    "\n",
    "Fourier series of discontinuous (but integrable) functions have extremely poor convergence properties. At a discontinuity, the series converges towards the midpoint of the limits on either side of the discontinuity. The convergence elsewhere is also very slow: in fact, in any neighbourhood of the discontinuity the convergence is pointwise but not uniform. Moreover, the terms in the Fourier series decay very slowly: in the case of the square wave, they fall off as $O(1/n)$. This makes partial sums of the Fourier series poor approximations to the function everywhere, not just near the discontinuity, as oscillatory features remain strong."
   ]
  },
  {
   "cell_type": "code",
   "execution_count": null,
   "metadata": {
    "scrolled": false
   },
   "outputs": [],
   "source": [
    "@Periodicise(0, 2*np.pi)\n",
    "def f_unv(x):\n",
    "    return (1 + np.sign(np.sin(x))) / 2 # square wave - Q5\n",
    "\n",
    "f = np.vectorize(f_unv, otypes=[float])\n",
    "nx = 256\n",
    "xmax = 2*np.pi\n",
    "xs = np.linspace(0, xmax, nx+1)\n",
    "dx = xs[1] - xs[0]\n",
    "nyquist = np.pi / dx \n",
    "ks = np.linspace(0, 2*nyquist, nx+1)[0:-1]\n",
    "ns = ks * xmax / (2*np.pi)\n",
    "\n",
    "xs = np.linspace(0, xmax, nx+1)[:-1]\n",
    "ys = f(xs)\n",
    "yft = myfft(ys)\n",
    "fourier_coeffs = anbn(ys)\n",
    "\n",
    "@interact(num_terms=widgets.IntSlider(min=1, max=24))\n",
    "def q5_partial_sums(num_terms):\n",
    "    fig, axs = plt.subplots(figsize=[14, 5])\n",
    "    # ax.set(xlim=[0, xmax])\n",
    "    axs.grid()\n",
    "    axs.plot(xs, ys, \"k\",\n",
    "             xs, partial_fourier_sum(fourier_coeffs, xmax, 2*num_terms-1)(xs), 'r--')\n",
    "#              xs, bandpass(fourier_coeffs, xmax, range(17, 100))(xs), 'r--')\n",
    "    axs.set(ylim=[-0.3, 1.3])\n",
    "    plt.show()"
   ]
  },
  {
   "cell_type": "markdown",
   "metadata": {},
   "source": [
    "## Bonus: Audio clipping and distortion\n",
    "\n",
    "Amplifying or time-shifting a signal are linear processes: they may change the amplitude and phase of each Fourier mode, but they act on each mode independently. You can think of the Fourier modes as the components of an infinite-dimensional vector, and the linear process as an infinite matrix; since the Fourier modes are eigenfunctions of the differential operator (combining sines and cosines into single terms), this matrix is diagonal.\n",
    "\n",
    "However, many important operations are nonlinear. For example, a microphone recording a very loud input signal transfers an output signal that is clipped, or capped at a peak level. Clipping is a nonlinear process, and as the following demo shows, the clipped function possesses higher harmonics that the non-clipped signal does not possess. The presence of higher harmonics changes the timbre of the sound, and is the principle by which the relatively 'pure' sound of a vibrating string can be magnified into the 'lead'-like sound of an electric guitar. \n",
    "\n",
    "As the amplitude of the incoming signal is increased more and more, the output signal resembles more and more a square wave, which is discontinuous and has Fourier coefficients dropping off as $O(1/n)$ rather than $O(1/n^2)$. "
   ]
  },
  {
   "cell_type": "code",
   "execution_count": null,
   "metadata": {},
   "outputs": [],
   "source": [
    "nx = 256\n",
    "period = 1\n",
    "\n",
    "@interact(amp=widgets.FloatSlider(min=0, max=2.5, value=0.4))\n",
    "def audio_clipping_demo(amp):\n",
    "    def f_unv(x):\n",
    "        return amp * (np.sin(2*np.pi*x) - 0.5*np.sin(6*np.pi*x))\n",
    "\n",
    "    f_noclip = np.vectorize(f_unv, otypes=[float])\n",
    "    f = np.vectorize(Clipping()(f_noclip))\n",
    "\n",
    "    xs = np.linspace(0, period, nx+1)[:-1]\n",
    "    ys = f(xs) \n",
    "    xps = np.linspace(0, 2*period, 256)\n",
    "    yps = np.array([f_noclip(x) for x in xps])\n",
    "    yft = myfft(ys)\n",
    "    fourier_coeffs = anbn(ys)\n",
    "\n",
    "    fig, axs = plt.subplots(1, 2, figsize=[14, 6])\n",
    "    axs[0].set(xlim=[0, 2*period], ylim=[-1.6, 1.6])\n",
    "    axs[0].grid()\n",
    "    axs[0].plot(xs, ys, \"k\",\n",
    "                xps, yps, 'k',\n",
    "                xps, partial_fourier_sum(fourier_coeffs, period, 8)(xps), 'r-')\n",
    "\n",
    "\n",
    "    axs[1].set(title=\"Fourier coefficients (abs)\")\n",
    "    axs[1].set(xlim=[0, 12], ylim=[-1.3, 1.3])\n",
    "    axs[1].grid()\n",
    "    axs[1].plot(ns[1::2], (fourier_coeffs[1][1::2]), 'r-x')\n",
    "    \n",
    "    plt.show()"
   ]
  },
  {
   "cell_type": "markdown",
   "metadata": {},
   "source": [
    "## JPEG artifacts near boundaries\n",
    "\n",
    "JPEG images are compressed by taking a discrete Fourier transform and eliminatng the higher-frequency terms, the reasoning being that the eye cannot resolve such fine detail. This is problematic at sharp boundaries, and 'oscillations' from the Gibbs phenomenon can be seen to affect even far away from the boundary.\n",
    "\n",
    "![JPEG artifacts near sharp boundaries](https://blogs.adobe.com/lightroomjournal/files/2016/09/jpeg-artifacts2.jpg) (Source: [Adobe](https://blogs.adobe.com/lightroomjournal/2016/09/lightroom-for-ios-2-5-0.html))"
   ]
  },
  {
   "cell_type": "markdown",
   "metadata": {},
   "source": [
    "## Bonus: Poor convergence properties\n"
   ]
  },
  {
   "cell_type": "code",
   "execution_count": null,
   "metadata": {},
   "outputs": [],
   "source": [
    "nx = 256\n",
    "period = 2\n",
    "\n",
    "@interact(mode=widgets.IntSlider(min=1, max=12, value=1))\n",
    "def noise_demo(mode):\n",
    "    def f(x):\n",
    "        return 1/mode * np.sin(mode * np.pi * x)\n",
    "    \n",
    "    xs = np.linspace(0, period, nx+1)[:-1]\n",
    "    ys = f(xs) \n",
    "    xps = np.linspace(0, 2*period, 256)\n",
    "    yps = np.array([f(x) for x in xps])\n",
    "    yft = myfft(ys)\n",
    "    fourier_coeffs = anbn(yps)\n",
    "    fig, axs = plt.subplots(1, 2, figsize=[14, 6])\n",
    "    axs[0].set(xlim=[0, 2*period], ylim=[-1.6, 1.6])\n",
    "    axs[0].grid()\n",
    "    axs[0].plot(xps, yps, \"k\")\n",
    "\n",
    "\n",
    "    axs[1].set(title=\"Fourier coefficients (abs)\")\n",
    "    axs[1].set(xlim=[0, 12], ylim=[-0.1, 0.1])\n",
    "    axs[1].grid()\n",
    "    axs[1].plot(ns[1::2], (fourier_coeffs[1][1::2]), 'r-x')\n",
    "    \n",
    "    plt.show()"
   ]
  }
 ],
 "metadata": {
  "kernelspec": {
   "display_name": "Python 3",
   "language": "python",
   "name": "python3"
  },
  "language_info": {
   "codemirror_mode": {
    "name": "ipython",
    "version": 3
   },
   "file_extension": ".py",
   "mimetype": "text/x-python",
   "name": "python",
   "nbconvert_exporter": "python",
   "pygments_lexer": "ipython3",
   "version": "3.9.0"
  }
 },
 "nbformat": 4,
 "nbformat_minor": 2
}
