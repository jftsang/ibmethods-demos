{
 "cells": [
  {
   "cell_type": "markdown",
   "metadata": {},
   "source": [
    "# Sturm-Liouville theory\n",
    "\n",
    "We cn use the `scipy.integrate.solve_bvp` method to solve many (most?) boundary value problems, including eigenvalue problems (in which an additional parameter must be determined)."
   ]
  },
  {
   "cell_type": "code",
   "execution_count": null,
   "metadata": {},
   "outputs": [],
   "source": [
    "import numpy as np\n",
    "from scipy.integrate import solve_bvp\n",
    "import scipy as sp\n",
    "import matplotlib.pyplot as plt"
   ]
  },
  {
   "cell_type": "markdown",
   "metadata": {},
   "source": [
    "## Sheet 1, question 6\n",
    "\n",
    "The system is:\n",
    "\n",
    "$$ y'' + \\lambda y = 0, \\quad y(0) = 0, \\quad y(1) + y'(1) = 0 $$\n",
    "\n",
    "We can write this system in the form\n",
    "\n",
    "$$ (-D^2) y = \\lambda y $$\n",
    "\n",
    "where the differential operator $D = \\mathrm{d}/\\mathrm{d}x$ will be treated as though it were a matrix."
   ]
  },
  {
   "cell_type": "code",
   "execution_count": null,
   "metadata": {},
   "outputs": [],
   "source": [
    "def fun(x, y, p):\n",
    "    lamb = p[0]\n",
    "    return np.vstack((y[1], -lamb * y[0]))\n",
    "\n",
    "def bc(ya, yb, p):\n",
    "    lamb = p[0]\n",
    "    return np.array([ya[0], yb[0] + yb[1], ya[1] - 1])\n",
    "\n",
    "mode = 2\n",
    "x_guess = np.linspace(0, 1, 101)\n",
    "y_guess = np.zeros((2, x_guess.size))\n",
    "y_guess[0] = np.sin(mode*np.pi*x_guess) / (mode*np.pi)\n",
    "lamb_guess = (mode*np.pi) ** 2\n",
    "sol = solve_bvp(fun, bc, x_guess, y_guess, p=[lamb_guess])\n",
    "print(sol.p[0])\n",
    "x_plot = np.linspace(0, 1, 100)\n",
    "y_plot = sol.sol(x_plot)[0]\n",
    "plt.plot(x_plot, y_plot)\n",
    "plt.title(f\"lambda = {sol.p[0]}\")\n",
    "plt.grid()\n",
    "plt.xlabel(\"x\")\n",
    "plt.ylabel(\"y\")\n",
    "plt.show()"
   ]
  },
  {
   "cell_type": "markdown",
   "metadata": {},
   "source": [
    "## Sheet 1, question 7\n",
    "$$ y'' + 4y' + (4+\\lambda)y = 0, \\quad y(0) = y(1) = 0 $$"
   ]
  },
  {
   "cell_type": "code",
   "execution_count": null,
   "metadata": {},
   "outputs": [],
   "source": [
    "def fun(x, y, p):\n",
    "    lamb = p[0]\n",
    "    v = (y[1], -y[1] - (4+lamb)*y[0])\n",
    "    return np.vstack(v)\n",
    "\n",
    "def bc(ya, yb, p):\n",
    "    lamb = p[0]\n",
    "    # y'(0) = 1 normalisation\n",
    "    return np.array([ya[0], yb[0], ya[1] - 1]) \n",
    "\n",
    "# The mode that gets found depends heavily on the initial guess,\n",
    "# which you can use to set the approximate location of the first\n",
    "# crest.\n",
    "mode = 3\n",
    "lamb_guess = 0\n",
    "x_guess = np.linspace(0, 1, 101)\n",
    "y_guess = np.zeros((2, x_guess.size))\n",
    "y_guess[0, :] = np.sin(mode * x_guess * np.pi) / (mode*np.pi)\n",
    "\n",
    "sol = solve_bvp(fun, bc, x_guess, y_guess, p=[lamb_guess])\n",
    "x_plot = np.linspace(0, 1, 100)\n",
    "y_plot = sol.sol(x_plot)[0]\n",
    "plt.plot(x_plot, y_plot, 'k-',\n",
    "         x_guess, y_guess[0], 'k:')\n",
    "plt.title(f\"lambda = {sol.p[0]}\")\n",
    "plt.legend([\"solution\", \"initial guess\"])\n",
    "plt.grid()\n",
    "plt.xlabel(\"x\")\n",
    "plt.ylabel(\"y\")\n",
    "plt.show()"
   ]
  },
  {
   "cell_type": "markdown",
   "metadata": {},
   "source": [
    "## Sheet 1, question 8: Bessel's equation (RSP at $x=0$)\n",
    "\n",
    "Bessel's equation arises when solving Laplace's equation in cylindrical coordinates using the method of separation. It determines the radial behaviour of the solution. The eigenvalues $\\lambda$ come from the contributions of the $\\theta$ and $z$ terms in the Laplacian.\n",
    "\n",
    "$$ (x y')' + \\lambda x y = 0, \\quad y(0) = 1, y(1) = 0 $$\n",
    "\n",
    "Specifically, this is Bessel's equation _of order zero_, which arises for a cylindrically symmetric solution.\n",
    "\n",
    "Recast the LHS as a singular DE:\n",
    "\n",
    "$$ y'' + \\frac{1}{x} y' + \\lambda y = 0 $$\n",
    "\n",
    "For normalisation we'll take $y(0) = 1$. This is very similar to the harmonic equation $y'' + \\lambda y = 0$; the $y'/x$ term from the curvilinear coordinate system gets less and less important as $x\\rightarrow\\infty$. "
   ]
  },
  {
   "cell_type": "code",
   "execution_count": null,
   "metadata": {},
   "outputs": [],
   "source": [
    "def fun(x, y, p):\n",
    "    lamb = p[0]\n",
    "    v = (y[1], y[2], -y[1]/(x+0.01) - lamb*y[0])\n",
    "    return np.vstack(v)\n",
    "\n",
    "def bc(ya, yb, p):\n",
    "    lamb = p[0]\n",
    "    # y(0) = 1 normalisation\n",
    "    return np.array([ya[0] - 1, ya[1], ya[2] - 1, yb[0]]) \n",
    "\n",
    "# The mode that gets found depends heavily on the initial guess,\n",
    "# which you can use to set the approximate location of the first\n",
    "# crest.\n",
    "mode = 2\n",
    "lamb_guess = 15\n",
    "x_guess = np.linspace(0, 1, 101)\n",
    "y_guess = np.zeros((3, x_guess.size))\n",
    "y_guess[0, :] = np.cos((mode+1/2) * x_guess * np.pi)\n",
    "\n",
    "sol = solve_bvp(fun, bc, x_guess, y_guess, p=[lamb_guess])\n",
    "x_plot = np.linspace(0, 1, 100)\n",
    "y_plot = sol.sol(x_plot)[0]\n",
    "plt.plot(x_plot, y_plot, 'k-',\n",
    "         x_guess, y_guess[0], 'b:')\n",
    "plt.title(f\"lambda = {sol.p[0]}\")\n",
    "plt.legend([\"solution\", \"initial guess\"])\n",
    "plt.grid()\n",
    "plt.xlabel(\"x\")\n",
    "plt.ylabel(\"y\")\n",
    "plt.show()"
   ]
  },
  {
   "cell_type": "markdown",
   "metadata": {},
   "source": [
    "## Question 9: Higher-order self-adjoint form\n",
    "\n",
    "$$ - y'''' + \\lambda y = 0 $$\n",
    "\n",
    "with homogeneous BCs in $y, y'$."
   ]
  },
  {
   "cell_type": "code",
   "execution_count": null,
   "metadata": {},
   "outputs": [],
   "source": [
    "def fun(x, y, p):\n",
    "    lamb = p[0]\n",
    "    return np.vstack((y[1], y[2], y[3], lamb * y[0]))\n",
    "\n",
    "def bc(ya, yb, p):\n",
    "    lamb = p[0]\n",
    "    return np.array([ya[0], ya[1], yb[0], yb[1], ya[2] - 1])\n",
    "\n",
    "mode = 4\n",
    "x_guess = np.linspace(0, 1, 101)\n",
    "y_guess = np.zeros((4, x_guess.size))\n",
    "y_guess[0, :] = x_guess * (1-x_guess) * np.sin(mode * x_guess * np.pi) / (2*mode*np.pi)\n",
    "\n",
    "sol = solve_bvp(fun, bc, x_guess, y_guess, p=[12])\n",
    "x_plot = np.linspace(0, 1, 100)\n",
    "y_plot = sol.sol(x_plot)[0]\n",
    "# Normalise the guess (just for demonstration)\n",
    "plt.plot(x_plot, y_plot, 'k-',\n",
    "         x_guess, y_guess[0] * np.max(np.abs(y_plot)) / np.max(np.abs(y_guess)), 'k:')\n",
    "plt.title(f\"lambda = {sol.p[0]}\")\n",
    "plt.grid()\n",
    "plt.xlabel(\"x\")\n",
    "plt.ylabel(\"y\")\n",
    "plt.show()"
   ]
  },
  {
   "cell_type": "code",
   "execution_count": null,
   "metadata": {},
   "outputs": [],
   "source": []
  }
 ],
 "metadata": {
  "kernelspec": {
   "display_name": "Python 3",
   "language": "python",
   "name": "python3"
  },
  "language_info": {
   "codemirror_mode": {
    "name": "ipython",
    "version": 3
   },
   "file_extension": ".py",
   "mimetype": "text/x-python",
   "name": "python",
   "nbconvert_exporter": "python",
   "pygments_lexer": "ipython3",
   "version": "3.7.5"
  }
 },
 "nbformat": 4,
 "nbformat_minor": 2
}
