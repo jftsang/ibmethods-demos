{
 "cells": [
  {
   "cell_type": "markdown",
   "id": "008fb295",
   "metadata": {},
   "source": [
    "# Diffusion equations"
   ]
  },
  {
   "cell_type": "code",
   "execution_count": null,
   "id": "1a043e72",
   "metadata": {},
   "outputs": [],
   "source": [
    "import numpy as np\n",
    "\n",
    "from scipy.integrate import solve_ivp\n",
    "from scipy.interpolate import interp1d\n",
    "\n",
    "import matplotlib.pyplot as plt\n",
    "\n",
    "from ipywidgets import interact, interactive, fixed, interact_manual\n",
    "import ipywidgets as widgets"
   ]
  },
  {
   "cell_type": "markdown",
   "id": "a09db576",
   "metadata": {},
   "source": [
    "## Linear diffusion equation (heat equation, Dynamics and Relativity Sheet 1 Question 8)"
   ]
  },
  {
   "cell_type": "markdown",
   "id": "7b01c1cd",
   "metadata": {},
   "source": [
    "The diffusion equation\n",
    "$$ y_t = D y_{xx} $$\n",
    "on the infinite domain $x \\in \\mathbb{R}$, with $y \\rightarrow 0$ as $x \\rightarrow \\pm\\infty$, has the similarity solution\n",
    "$$\n",
    "y_s(x, t) = \\frac{Q}{\\sqrt{4\\pi D t}} \\exp\\left(\\frac{-x^2}{4Dt}\\right), \\qquad\n",
    "Q = \\int_{-\\infty}^{\\infty} y(x, 0) \\, \\mathrm{d}t\n",
    "$$\n",
    "Given any initial condition $y(x, 0)$ that is localised, it can be shown that, for $t\\gg1$, the solution $y(x,t)$ approaches the similarity solution.\n",
    "\n",
    "(The precise definition of this is subtle, and the result can be derived using Fourier transforms and Laplace's method for estimating large integrals. This is covered in detail in _Methods_ and _Asymptotic Methods_.)\n",
    "\n",
    "The similarity solution can be derived using dimensional analysis. For $t\\gg1$ it is assumed that all the details about the initial conditions are 'forgotten' due to the smoothing nature of diffusion; therefore, the resulting solution at a point $x$ may depend only on $x$, $t$, $D$ and the total quantity $Q = \\int_{-\\infty}^\\infty y \\,\\mathrm{d}t$, which is conserved. The only way in which $x$, $t$ and $D$ may be combined into a dimensionless quantity is through $s = x/\\sqrt{Dt}$. \n",
    "\n",
    "In this demo, we have chosen units in which $D = 1$."
   ]
  },
  {
   "cell_type": "code",
   "execution_count": null,
   "id": "dee0b739",
   "metadata": {
    "scrolled": true
   },
   "outputs": [],
   "source": [
    "dx = 0.01\n",
    "xs = np.arange(-10, 10, dx)\n",
    "\n",
    "\n",
    "def y0(x):\n",
    "    return np.where(abs(x) < 1, 1 + 0.3*x + 0.2 * np.sin(6*x), 0)\n",
    "\n",
    "y0s = y0(xs)\n",
    "\n",
    "def dydt(t, ys):\n",
    "    d2ydx2 = (np.roll(ys, -1) - 2*ys + np.roll(ys, 1)) / dx**2\n",
    "    return d2ydx2\n",
    "\n",
    "\n",
    "sol = solve_ivp(dydt, (0, 6), y0s)\n",
    "assert sol.success, sol.status\n",
    "\n",
    "ysol = interp1d(sol.t, sol.y)\n",
    "\n",
    "@interact(t=widgets.FloatSlider(min=sol.t[0], max=sol.t[-1], step=0.01, continuous_update=False))\n",
    "def diffusion_spread(t):\n",
    "    q = np.sum(y0s) * dx\n",
    "    if t > 0:\n",
    "        y_sim = q * (4 * np.pi * t)**(-0.5) * np.exp(-xs**2 / (4*t))\n",
    "    else:\n",
    "        y_sim = np.where(np.abs(xs) < dx, q / dx, 0)\n",
    "        \n",
    "    fig, axs = plt.subplots()\n",
    "\n",
    "    plt.plot(xs, ysol(t), 'k-')\n",
    "    plt.plot(xs, y_sim, 'r--')\n",
    "    axs.set_ylim([0, np.max(sol.y) + 0.1])\n",
    "    axs.legend(('Actual solution', 'Similarity solution'))\n",
    "    plt.show()"
   ]
  },
  {
   "cell_type": "markdown",
   "id": "30a551a6",
   "metadata": {},
   "source": [
    "One problem with the linear diffusion equation as a model is that 'information travels infinitely fast' - that is, we can have $y(x, t) \\neq 0$ for arbitrarily large $x$ and arbitrary small $t$ despite $y(x, 0)$ being localised. This behaviour is not exhibited by nonlinear diffusion equations..."
   ]
  },
  {
   "cell_type": "markdown",
   "id": "9a9134ac",
   "metadata": {},
   "source": [
    "## Nonlinear diffusion (Mathematical Biology Sheet 3 Question 6)\n",
    "\n",
    "$$ C_t = k (C^p C_x)_x $$\n",
    "\n",
    "We see that when the diffusion coefficient is not constant but depends on $C$ then 'information does not travel infinitely fast'. Instead, a front forms."
   ]
  },
  {
   "cell_type": "code",
   "execution_count": null,
   "id": "f08ea9e5",
   "metadata": {},
   "outputs": [],
   "source": [
    "dx = 0.05\n",
    "xs = np.arange(-10, 10, dx)\n",
    "\n",
    "y0s = np.where(abs(xs) < 1, 1 + np.sin(xs), 0)\n",
    "\n",
    "def dydt(t, ys):\n",
    "    yx = np.concatenate([[0], (ys[2:] - ys[:-2])/(2*dx), [0]])\n",
    "    yxx = np.concatenate([[0], (ys[2:] - 2*ys[1:-1] + ys[:-2])/dx**2, [0]])\n",
    "    return yx**2 + ys * yxx\n",
    "\n",
    "sol = solve_ivp(dydt, (0, 10), y0s, method='Radau')\n",
    "assert sol.success, sol.message\n",
    "\n",
    "ysol = interp1d(sol.t, sol.y)\n",
    "\n",
    "@interact(t=widgets.FloatSlider(min=sol.t[0], max=sol.t[-1], continuous_update=False))\n",
    "def diffusion_spread(t):\n",
    "    fig, axs = plt.subplots()\n",
    "\n",
    "    plt.plot(xs, ysol(t))\n",
    "    axs.set_ylim([0, np.max(sol.y) + 0.1])\n",
    "    plt.show()"
   ]
  }
 ],
 "metadata": {
  "kernelspec": {
   "display_name": "Python 3 (ipykernel)",
   "language": "python",
   "name": "python3"
  },
  "language_info": {
   "codemirror_mode": {
    "name": "ipython",
    "version": 3
   },
   "file_extension": ".py",
   "mimetype": "text/x-python",
   "name": "python",
   "nbconvert_exporter": "python",
   "pygments_lexer": "ipython3",
   "version": "3.9.9"
  }
 },
 "nbformat": 4,
 "nbformat_minor": 5
}
