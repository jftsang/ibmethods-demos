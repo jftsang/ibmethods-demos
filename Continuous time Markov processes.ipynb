{
 "cells": [
  {
   "cell_type": "markdown",
   "metadata": {},
   "source": [
    "# Continuous-time Markov processes"
   ]
  },
  {
   "cell_type": "code",
   "execution_count": null,
   "metadata": {},
   "outputs": [],
   "source": [
    "import logging\n",
    "import random\n",
    "\n",
    "import matplotlib.pyplot as plt\n",
    "import numpy as np\n",
    "from numpy.random import default_rng\n",
    "\n",
    "from ipywidgets import interact, interactive, fixed, interact_manual\n",
    "import ipywidgets as widgets\n",
    "\n",
    "logging.getLogger().setLevel(logging.WARN)"
   ]
  },
  {
   "cell_type": "code",
   "execution_count": null,
   "metadata": {},
   "outputs": [],
   "source": [
    "def evolution(fun, ts, state0, resample=None):\n",
    "    \"\"\"Event-driven simulation of a continuous-time Markov process.\"\"\"\n",
    "    # TODO specify max rate/min step, to interrupt in case of very high rates\n",
    "    if type(ts) in (int, float):\n",
    "        ts = np.linspace(0, ts)\n",
    "    \n",
    "    state = state0\n",
    "    t = ts[0]\n",
    "    history = [[0, state0]]\n",
    "    \n",
    "    while t < ts[-1]:\n",
    "        transitions = fun(t, state)\n",
    "        transitions = {k: transitions[k] for k in transitions if transitions[k] > 0}\n",
    "        logging.info(transitions)\n",
    "        if not transitions:\n",
    "            break\n",
    "        \n",
    "        times_to_move = {k: np.random.exponential(1/transitions[k]) for k in transitions}\n",
    "        logging.info(times_to_move)       \n",
    "\n",
    "        new_state = min(times_to_move, key=lambda k: times_to_move[k])\n",
    "        time_elapsed = times_to_move[new_state]\n",
    "        t += time_elapsed\n",
    "        state = new_state\n",
    "        history.append([t, state])\n",
    "                \n",
    "    if resample is None:\n",
    "        return np.array(history)\n",
    "    \n",
    "    resampled_history = []\n",
    "    for t in resample:\n",
    "        last_event = max([h for h in history if h[0] <= t], key=lambda h: h[0])\n",
    "        resampled_history.append([t, last_event[1]])\n",
    "        \n",
    "    return np.array(resampled_history)"
   ]
  },
  {
   "cell_type": "markdown",
   "metadata": {},
   "source": [
    "## Stochastic Lotka-Volterra"
   ]
  },
  {
   "cell_type": "code",
   "execution_count": null,
   "metadata": {},
   "outputs": [],
   "source": [
    "def transition_fun(t, n):\n",
    "    x, y = n\n",
    "    s = .001\n",
    "    return {\n",
    "        (x + s, y): 2/3 * x,\n",
    "        (x - 4/3*s, y+s): x * y,\n",
    "        (x, y - s): y\n",
    "    }\n",
    "\n",
    "history = evolution(transition_fun, 20000, [1, 0.75],\n",
    "                    resample=np.linspace(0, 20000, 101))\n",
    "\n",
    "fig = plt.figure(figsize=(15, 6))\n",
    "plt.plot([h[0] for h in history],\n",
    "         [h[1] for h in history])\n",
    "plt.grid()\n",
    "plt.gca().set_ylim([0, None])\n",
    "plt.show()"
   ]
  },
  {
   "cell_type": "code",
   "execution_count": null,
   "metadata": {},
   "outputs": [],
   "source": [
    "initial_states = [(1 + r*np.cos(th), 1 + r*np.sin(th)) \n",
    "                  for r in np.linspace(.1, .4, 4)\n",
    "                  for th in np.linspace(0, 2*np.pi, 9)[:-1]]\n",
    "histories = [evolution(transition_fun, 10000, s, np.linspace(0, 10000, 201)) for s in initial_states]"
   ]
  },
  {
   "cell_type": "code",
   "execution_count": null,
   "metadata": {},
   "outputs": [],
   "source": [
    "average_x = [np.average([h[t][1][0] for h in histories]) for t in range(len(histories[0]))]\n",
    "average_y = [np.average([h[t][1][1] for h in histories]) for t in range(len(histories[0]))]"
   ]
  },
  {
   "cell_type": "code",
   "execution_count": null,
   "metadata": {},
   "outputs": [],
   "source": [
    "@interact(step=widgets.IntSlider(min=0, max=len(histories[0])-1, value=0, continuous_update=False))\n",
    "def plot_evolution(step):\n",
    "    final_states = [h[step][1] for h in histories]\n",
    "\n",
    "    plt.figure(figsize=[8,8])\n",
    "    plt.plot(\n",
    "        average_x, average_y, 'r-',\n",
    "        [x[0] for x in final_states], \n",
    "        [x[1] for x in final_states],\n",
    "        'k.',\n",
    "        average_x[step], average_y[step], 'ko'\n",
    "    )\n",
    "    plt.gca().set_xlim([0, 2])\n",
    "    plt.gca().set_ylim([0, 2])\n",
    "    plt.gca().set_aspect('equal')\n",
    "    plt.gca().grid()\n",
    "    # = evolution(transition_fun, 60, [50, 0])"
   ]
  },
  {
   "cell_type": "markdown",
   "metadata": {},
   "source": [
    "## Stochastic harmonic oscillator"
   ]
  },
  {
   "cell_type": "code",
   "execution_count": null,
   "metadata": {},
   "outputs": [],
   "source": [
    "def transition_fun(t, s):\n",
    "    x, y = s\n",
    "    return {\n",
    "        (x + 1, y): y,\n",
    "        (x - 1, y): -y,\n",
    "        (x, y + 1): -x,\n",
    "        (x, y - 1): x\n",
    "    }\n",
    "\n",
    "history = evolution(transition_fun, 40, [40, 40],\n",
    "                    resample=np.linspace(0, 40, 121))\n",
    "\n",
    "plt.plot([h[0] for h in history],\n",
    "         [h[1] for h in history])\n",
    "plt.show()\n",
    "\n",
    "\n",
    "plt.plot([h[1][0] for h in history],\n",
    "        [h[1][1] for h in history])\n",
    "plt.show()"
   ]
  },
  {
   "cell_type": "code",
   "execution_count": null,
   "metadata": {},
   "outputs": [],
   "source": [
    "initial_states = [(30 + r*np.cos(th), 40 + r*np.sin(th)) \n",
    "                  for r in np.linspace(1, 5, 5)\n",
    "                  for th in np.linspace(0, 2*np.pi, 9)]\n",
    "\n",
    "histories = [evolution(transition_fun, 25, s, np.linspace(0, 25, 161)) for s in initial_states]\n",
    "average_x = [np.average([h[t][1][0] for h in histories]) for t in range(len(histories[0]))]\n",
    "average_y = [np.average([h[t][1][1] for h in histories]) for t in range(len(histories[0]))]"
   ]
  },
  {
   "cell_type": "code",
   "execution_count": null,
   "metadata": {},
   "outputs": [],
   "source": [
    "@interact(step=widgets.IntSlider(min=0, max=len(histories[0])-1, value=0, continuous_update=False))\n",
    "def plot_evolution(step):\n",
    "    final_states = [h[step][1] for h in histories]\n",
    "\n",
    "    plt.figure(figsize=[8,8])\n",
    "    plt.plot(\n",
    "        average_x, average_y, 'r-',\n",
    "        [x[0] for x in final_states], \n",
    "             [x[1] for x in final_states],\n",
    "            'k.',\n",
    "        average_x[step], average_y[step], 'k+',)\n",
    "    plt.gca().set_xlim([-60, 60])\n",
    "    plt.gca().set_ylim([-60, 60])\n",
    "    plt.gca().set_aspect('equal')\n",
    "    plt.gca().grid()\n",
    "    "
   ]
  },
  {
   "cell_type": "markdown",
   "metadata": {},
   "source": [
    "## Decay with regeneration"
   ]
  },
  {
   "cell_type": "code",
   "execution_count": null,
   "metadata": {},
   "outputs": [],
   "source": [
    "def transition_fun(t, s):\n",
    "    x, y = s\n",
    "    return {\n",
    "        (x + 1, y): 1 - 0.05*x + y,\n",
    "        (x - 1, y): 1 + 0.05*x - y,\n",
    "        (x, y + 1): 1 - 0.05*y - x,\n",
    "        (x, y - 1): 1 + 0.05*y + x\n",
    "    }\n",
    "\n",
    "history = evolution(transition_fun, 100, [10, 10],\n",
    "                    resample=np.linspace(0, 100, 151))\n",
    "\n",
    "plt.figure(figsize=(14, 5))\n",
    "plt.plot([h[0] for h in history],\n",
    "         [h[1] for h in history],\n",
    "        )\n",
    "plt.show()\n",
    "\n",
    "\n",
    "plt.plot([h[1][0] for h in history],\n",
    "        [h[1][1] for h in history])\n",
    "plt.show()"
   ]
  },
  {
   "cell_type": "code",
   "execution_count": null,
   "metadata": {},
   "outputs": [],
   "source": [
    "initial_states = [(60 + r*np.cos(th), 60 + r*np.sin(th)) \n",
    "                  for r in np.linspace(1, 5, 5)\n",
    "                  for th in np.linspace(0, 2*np.pi, 9)[:-1]]\n",
    "\n",
    "histories = [evolution(transition_fun, 100, s, np.linspace(0, 100, 251)) for s in initial_states]\n",
    "average_x = [np.average([h[t][1][0] for h in histories]) for t in range(len(histories[0]))]\n",
    "average_y = [np.average([h[t][1][1] for h in histories]) for t in range(len(histories[0]))]"
   ]
  },
  {
   "cell_type": "code",
   "execution_count": null,
   "metadata": {},
   "outputs": [],
   "source": [
    "@interact(step=widgets.IntSlider(min=0, max=len(histories[0])-1, value=0, continuous_update=False))\n",
    "def plot_evolution(step):\n",
    "    final_states = [h[step][1] for h in histories]\n",
    "\n",
    "    plt.figure(figsize=[8,8])\n",
    "    plt.plot(\n",
    "        average_x, average_y, 'r-',\n",
    "        [x[0] for x in final_states], \n",
    "        [x[1] for x in final_states],\n",
    "        'k.',\n",
    "        average_x[step], average_y[step], 'k+'\n",
    "    )\n",
    "    plt.gca().set_xlim([-120, 120])\n",
    "    plt.gca().set_ylim([-120, 120])\n",
    "    plt.gca().set_aspect('equal')\n",
    "    plt.gca().grid()\n",
    "    "
   ]
  }
 ],
 "metadata": {
  "kernelspec": {
   "display_name": "Python 3",
   "language": "python",
   "name": "python3"
  },
  "language_info": {
   "codemirror_mode": {
    "name": "ipython",
    "version": 3
   },
   "file_extension": ".py",
   "mimetype": "text/x-python",
   "name": "python",
   "nbconvert_exporter": "python",
   "pygments_lexer": "ipython3",
   "version": "3.9.1"
  }
 },
 "nbformat": 4,
 "nbformat_minor": 4
}
