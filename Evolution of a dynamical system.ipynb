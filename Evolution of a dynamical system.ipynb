{
 "cells": [
  {
   "cell_type": "markdown",
   "metadata": {},
   "source": [
    "# Evolution of dynamical systems and sensitivity to initial conditions"
   ]
  },
  {
   "cell_type": "code",
   "execution_count": null,
   "metadata": {},
   "outputs": [],
   "source": [
    "from functools import cache\n",
    "from itertools import product\n",
    "import matplotlib.pyplot as plt\n",
    "import numpy as np\n",
    "import random\n",
    "from scipy.integrate import solve_ivp\n",
    "\n",
    "from ipywidgets import interact, interactive, fixed, interact_manual\n",
    "import ipywidgets as widgets"
   ]
  },
  {
   "cell_type": "markdown",
   "metadata": {},
   "source": [
    "## SIR model"
   ]
  },
  {
   "cell_type": "code",
   "execution_count": null,
   "metadata": {},
   "outputs": [],
   "source": [
    "def fun(t, y):\n",
    "    return [-y[0] * y[1],\n",
    "            y[0]*y[1] - y[1]]"
   ]
  },
  {
   "cell_type": "code",
   "execution_count": null,
   "metadata": {},
   "outputs": [],
   "source": [
    "xran = [0, 1]\n",
    "yran = [0, 1]\n",
    "tf = 20\n",
    "initial_states = [[x, y] \n",
    "                  for x in np.linspace(*xran, 7) \n",
    "                  for y in np.linspace(*yran, 7)]\n",
    "sols = [solve_ivp(fun, [0, tf], i, t_eval=np.linspace(0, tf, int(tf*50))) for i in initial_states]"
   ]
  },
  {
   "cell_type": "code",
   "execution_count": null,
   "metadata": {},
   "outputs": [],
   "source": [
    "fig = plt.figure(figsize=(8, 8))\n",
    "arrowlen = 0.01\n",
    "for s in sols:\n",
    "    plt.scatter(s.y[0,:], s.y[1,:], s=np.linspace(1, 30, len(s.y[1,:])))\n",
    "    \n",
    "for s in sols:\n",
    "    dx, dy = fun(0, [s.y[0, 0], s.y[1, 0]])\n",
    "    plt.arrow(s.y[0, 0] - .5*arrowlen*dx, s.y[1, 0] - .5*arrowlen*dy,\n",
    "              arrowlen*dx, arrowlen*dy, color='black')\n",
    "\n",
    "for s in sols:\n",
    "    dx, dy = fun(tf, [s.y[0, -1], s.y[1, -1]])\n",
    "    plt.arrow(s.y[0, -1] - .5*arrowlen*dx, s.y[1, -1] - .5*arrowlen*dy,\n",
    "              arrowlen*dx, arrowlen*dy, color='blue')\n",
    "    \n",
    "ax = plt.gca()\n",
    "ax.set_aspect('equal', adjustable='box')\n",
    "ax.set_xlim(xran)\n",
    "ax.set_ylim(yran)\n",
    "ax.grid()"
   ]
  }
 ],
 "metadata": {
  "kernelspec": {
   "display_name": "Python 3",
   "language": "python",
   "name": "python3"
  },
  "language_info": {
   "codemirror_mode": {
    "name": "ipython",
    "version": 3
   },
   "file_extension": ".py",
   "mimetype": "text/x-python",
   "name": "python",
   "nbconvert_exporter": "python",
   "pygments_lexer": "ipython3",
   "version": "3.9.6"
  }
 },
 "nbformat": 4,
 "nbformat_minor": 4
}
