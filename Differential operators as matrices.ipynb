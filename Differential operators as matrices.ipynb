{
 "cells": [
  {
   "cell_type": "markdown",
   "metadata": {},
   "source": [
    "# Differential operators as matrices\n",
    "\n",
    "Differential operators are linear operators on vector fields of functions. They have many similar properties to matrices on finite-dimensional vector spaces. Indeed, if a function $y(x)$ is sampled at discrete points with values $y_n$, then the approximations to $y'$, $y''$ are created by multiplying the vector $(y_n)$ with a difference matrix.\n",
    "\n",
    "In particular, the eigenvalues and eigenfunctions of an operator can be approximated by looking at the eigenvalues and eigenvectors of the discretised matrix operator. This can be done numerically using methods such as `eig` from the `scipy` package: see [its documentation](https://docs.scipy.org/doc/scipy/reference/generated/scipy.linalg.eig.html) for information about its algorithm. (We are only interested in self-adjoint operators. When discretised, they become Hermitian matrices.) Note that most such algorithms return the eigenvectors as normalised vectors; their actual magnitude when interpreted as functions needs to be scaled by $\\sqrt{N}$, where $N$ is the number of gridpoints."
   ]
  },
  {
   "cell_type": "code",
   "execution_count": null,
   "metadata": {},
   "outputs": [],
   "source": [
    "import numpy as np\n",
    "from numpy import pi\n",
    "from numpy import sqrt, sin, cos, tan, sinh, cosh, exp, dot\n",
    "# from numpy.linalg import eig, eigh\n",
    "from scipy.linalg import eig, eigh\n",
    "import matplotlib.pyplot as plt\n",
    "from ipywidgets import interact, interactive, fixed, interact_manual\n",
    "import ipywidgets as widgets\n",
    "from differentials import *"
   ]
  },
  {
   "cell_type": "markdown",
   "metadata": {},
   "source": [
    "## The harmonic functions\n",
    "These are the eigenfunctions of the operator $-D^2$, subject to either Dirichlet or Neumann boundary conditions."
   ]
  },
  {
   "cell_type": "code",
   "execution_count": null,
   "metadata": {
    "scrolled": false
   },
   "outputs": [],
   "source": [
    "xa = 0; xb = pi; nx = 101;\n",
    "xs, dx, eye, ddx, d2dx2 = discretise(xa, xb, nx)\n",
    "\n",
    "op = -d2dx2; \n",
    "op[0, :] = 0;\n",
    "op[-1, :] = 0;\n",
    "eye[0, 3:] = 0; eye[0, :3] = (3/2, -2, 1/2) / dx;\n",
    "eigvals, eigvecs = myeig(op, eye)\n",
    "\n",
    "@interact(mode=widgets.IntSlider(min=0, max=20, continuous_update=True))\n",
    "def harmfun(mode):\n",
    "    # Note: First two modes correspond to the boundary values. \n",
    "    fig, axs = plt.subplots(1, 2, figsize=(14, 4))\n",
    "    axs[0].plot(xs, np.real(eigvecs[:, mode+2]) * np.sign(np.real(eigvecs[0, mode+2])))\n",
    "    axs[0].set(title=f\"E = %.2f\" % eigvals[mode+2], \n",
    "                  xlim=[xa, xb], ylim=[-2, 2])\n",
    "    axs[0].grid()\n",
    "    axs[1].plot(eigvals[2:12], 'kx')\n",
    "    axs[1].plot(mode, eigvals[2+mode], 'ko')\n",
    "    axs[1].grid()"
   ]
  },
  {
   "cell_type": "markdown",
   "metadata": {},
   "source": [
    "## The quantum harmonic oscillator\n",
    "\n",
    "In suitable units, the time-independent Schrodinger equation for the wavefunction in a harmonic potential is \n",
    "$$ -y'' + x^2 y = E y.$$\n",
    "The possible energy levels $E$ are the eigenvalues of the operator $-D^2 + x^2$. The operator 'multiply by $x^2$' is represented as a diagonal matrix whose elements are $x_n^2$, where $x_n$ are the gridpoints of the discretisation.\n",
    "\n",
    "This idea can be generalised to any other potential $V(x)$.\n",
    "\n",
    "The potential $V(x) = x$ leads to the Airy equation, and is particularly interesting because it occurs at the 'edges' at potential wells where a particle would classically not be able to penetrate the edge. In the quantum case, the wavefunction is able to extend a little bit beyond the boundary, but decays exponentially. The two linearly independent solution to the Airy equation, $Ai$ and $Bi$ (sometimes known as 'Bairy'), have asymptotic properties that can be matched against the oscillatory wavefunction for a free particle."
   ]
  },
  {
   "cell_type": "code",
   "execution_count": null,
   "metadata": {
    "scrolled": true
   },
   "outputs": [],
   "source": [
    "xa = -20; xb = 20; nx = 501;\n",
    "xs, dx, eye, ddx, d2dx2 = discretise(xa, xb, nx)\n",
    "d2dx2[0, :] = 0; d2dx2[-1, :] = 0 # impose boundary conditions\n",
    "# eigvals, eigvecs = eigh(-d2dx2)\n",
    "\n",
    "@interact(\n",
    "    potential=[\"harmonic\", \"symquartic\", \"quartic\", \"Airy\", \"sechsq\"],\n",
    "    mode=widgets.IntSlider(min=0, max=24, continuous_update=False))\n",
    "def qhoplot(potential, mode):\n",
    "        if potential == \"harmonic\":\n",
    "            V = lambda x: x**2\n",
    "        if potential == \"symquartic\":\n",
    "            V = lambda x: x**4 / 64 - x**2\n",
    "        if potential == \"quartic\":\n",
    "            V = lambda x: 0.01*x**4 - 0.75*x**2 + x\n",
    "        if potential == \"Airy\":\n",
    "            V = lambda x: x\n",
    "        if potential == \"sechsq\":\n",
    "            V = lambda x: -np.cosh(x/2)**-2\n",
    "\n",
    "        eigvals, eigvecs = eigh(-d2dx2 + np.diag(V(xs)))\n",
    "        fig, axs = plt.subplots(1, 2, figsize=(14, 4))\n",
    "\n",
    "        # TODO what's up with the first mode? \n",
    "        # I think we aren't imposing BCs correctly.\n",
    "        axs[0].plot(xs, eigvecs[:, mode])\n",
    "        axs[0].set(title=f\"E = %.2f\" % eigvals[mode], \n",
    "                      xlim=[-20, 20], ylim=[-.26, .26])\n",
    "        axs[0].grid()\n",
    "\n",
    "        axs[1].plot(xs, V(xs), '-')\n",
    "        for m in range(24):\n",
    "            axs[1].plot(xs, eigvals[m] * np.ones(xs.shape), 'k--')\n",
    "        axs[1].plot(xs, eigvals[mode] * np.ones(xs.shape), 'r-')\n",
    "        axs[1].set(ylim=[min(V(xs)), eigvals[24]])"
   ]
  },
  {
   "cell_type": "markdown",
   "metadata": {},
   "source": [
    "## Sheet 1, question 7\n",
    "\n",
    "$$ y'' + 4y' + 4y = -\\lambda y $$\n",
    "\n",
    "so the operator of interest is $D^2 + 4D + 4I$. Note that this is _not_ a self-adjoint operator, so there is no reason to suspect that its eigenfunctions will be orthogonal under the standard inner product. (They aren't.)"
   ]
  },
  {
   "cell_type": "code",
   "execution_count": null,
   "metadata": {},
   "outputs": [],
   "source": [
    "xa = 0; xb = 1; nx = 301;\n",
    "xs, dx, eye, ddx, d2dx2 = discretise(xa, xb, nx)"
   ]
  },
  {
   "cell_type": "code",
   "execution_count": null,
   "metadata": {},
   "outputs": [],
   "source": [
    "# eigvals, eigvecs = eig(d2dx2 + 4*ddx + 4*eye)\n",
    "op = -(d2dx2 + 4*ddx + 4*eye)\n",
    "op[0, :] = 0; op[-1, :] = 0\n",
    "eigvals, eigvecs = myeig(op, eye)\n",
    "# eigvals = -eigvals\n",
    "# eigvals, eigvecs = eigh(-d2dx2)\n",
    "\n",
    "@interact(mode=widgets.IntSlider(min=1, max=12,\n",
    "                                 continuous_update=False\n",
    "                            ))\n",
    "def s1q7_plot_notsl(mode):\n",
    "    fig, axs = plt.subplots(1, 2, figsize=(14, 4))\n",
    "    mind = mode+1 # first two modes come from imposing BCs, then we count from 1\n",
    "    axs[0].plot(xs, \n",
    "             eigvecs[:, mind] * np.sign(eigvecs[2, mind]))\n",
    "    axs[0].set(title=f\"E = %.2f\" % eigvals[mind], \n",
    "                  xlim=[0, 1] )#, ylim=[-3, 3])\n",
    "    axs[0].grid()\n",
    "    \n",
    "    axs[1].plot(eigvals[range(1, 15)], 'kx')\n",
    "    axs[1].plot(mode, eigvals[mind], 'ko')\n",
    "    axs[1].grid()\n",
    "    "
   ]
  },
  {
   "cell_type": "markdown",
   "metadata": {},
   "source": [
    "We can turn the equation into a self-adjoint equation by multiplying through by the integrating factor $p(x) = \\exp(4x)$, to get\n",
    "\n",
    "$$ (py')' + 4py = -\\lambda py. $$\n",
    "\n",
    "As a matrix equation, this becomes\n",
    "\n",
    "$$ \n",
    "(DPD + 4P)y = -\\lambda Py,\n",
    "$$\n",
    "a generalised eigenvector problem. As in the QHO example, $P$ is a diagonal matrix whose elements are $p(x_n) = \\exp(4x_n)$, representing multiplication by $p(x)$. So, recasting in Sturm-Liouville form is akin to diagonalising a matrix. Note that $P$ and $D$ do not commute."
   ]
  },
  {
   "cell_type": "code",
   "execution_count": null,
   "metadata": {},
   "outputs": [],
   "source": [
    "p_mat = np.diag(exp(4*xs))\n",
    "eigvals, eigvecs = eigh(ddx @ p_mat @ ddx + 4 * p_mat, p_mat)\n",
    "eigvals = -eigvals"
   ]
  },
  {
   "cell_type": "code",
   "execution_count": null,
   "metadata": {},
   "outputs": [],
   "source": [
    "@interact(mode=widgets.IntSlider(min=0, max=12))\n",
    "def s1q7_plot_sl(mode):\n",
    "    # TODO what's up with the first mode? \n",
    "    # I think we aren't imposing BCs correctly.\n",
    "    plt.plot(xs[0::4], eigvecs[0::4, 2*mode+2] * sqrt(nx) * np.sign(eigvecs[4, 2*mode+2]))\n",
    "    plt.gca().set(title=f\"E = %.2f\" % eigvals[-2*mode-4], \n",
    "                  xlim=[0, 1], ylim=[-1, 1])\n",
    "    plt.gca().grid()\n",
    "#     plt.plot(eigvals[:mode], 'x')"
   ]
  },
  {
   "cell_type": "markdown",
   "metadata": {},
   "source": [
    "## Sheet 1, question 8: Bessel functions"
   ]
  },
  {
   "cell_type": "code",
   "execution_count": null,
   "metadata": {},
   "outputs": [],
   "source": [
    "xa = 0; xb = 10; nx = 101;\n",
    "xs, dx, eye, ddx, d2dx2 = discretise(xa, xb, nx)\n",
    "\n",
    "x_mat = np.diag(xs)\n",
    "bessel_operator = -dot(x_mat, d2dx2) - ddx\n",
    "bessel_operator[0, :] = 0\n",
    "bessel_operator[-1, :] = 0\n",
    "eye = x_mat;\n",
    "eye[0, :2] = (-1, 1)\n",
    "eye[-1, -1] = 1\n",
    "\n",
    "eigvals, eigvecs = myeig(bessel_operator, eye)\n",
    "# eigvals = -eigvals\n",
    "# eigvals, eigvecs = eigh(-d2dx2)\n",
    "\n",
    "@interact(mode=widgets.IntSlider(min=0, max=12))\n",
    "def s1q8_plot_notsl(mode):\n",
    "    # TODO what's up with the first mode? \n",
    "    # I think we aren't imposing BCs correctly.\n",
    "    plt.plot(xs, eigvecs[:, mode+2] / eigvecs[0, mode+2])\n",
    "    plt.gca().set(title=f\"E = %.2f\" % eigvals[mode+2], \n",
    "                  xlim=[xa, xb], ylim=[-1.1, 1.1])\n",
    "    plt.gca().grid()\n",
    "#     plt.plot(eigvals[:mode], 'x')"
   ]
  },
  {
   "cell_type": "markdown",
   "metadata": {},
   "source": [
    "## Sheet 1, question 9: Higher-order self-adjoint form\n",
    "\n",
    "The differential operator of interest here is simply $D^4$. "
   ]
  },
  {
   "cell_type": "code",
   "execution_count": null,
   "metadata": {},
   "outputs": [],
   "source": [
    "xa = 0.0; xb = 1; nx = 257;\n",
    "xs, dx, eye, ddx, d2dx2 = discretise(xa, xb, nx)\n",
    "# d2dx2[0, :] = 0; d2dx2[-1, :] = 0\n",
    "op = d4dx4_mat(nx, dx=1)#, periodic=True)\n",
    "op[0, :] = 0\n",
    "op[1, :] = 0\n",
    "op[-2, :] = 0\n",
    "op[-1, :] = 0\n",
    "\n",
    "eigvals, eigvecs = myeig(op, eye)\n",
    "\n",
    "@interact(mode=widgets.IntSlider(min=1, max=12, continuous_update=False))\n",
    "def s1q9_plot_sl(mode):\n",
    "    mind = mode + 3\n",
    "    fig, axs = plt.subplots(1, 2, figsize=[14, 4])\n",
    "    axs[0].plot(xs, eigvecs[:, mind] * sqrt(nx) * np.sign(eigvecs[128, mind]))\n",
    "    axs[0].set(title=f\"lambda = %.2f\" % eigvals[mind], \n",
    "                  xlim=[0, 1])#, ylim=[-6, 6])\n",
    "    axs[0].grid()\n",
    "    axs[1].plot(range(1,18), eigvals[3:20] ** (1/4), 'kx')\n",
    "    axs[1].set_xlabel('n')\n",
    "    axs[1].set_ylabel('lambda_n ^ (1/4)')\n",
    "    axs[1].grid()\n",
    "    axs[1].set_title('lambda_n = O(n^4)')\n",
    "    \n",
    "\n",
    "#     plt.plot(eigvals[:mode], 'x')"
   ]
  },
  {
   "cell_type": "code",
   "execution_count": null,
   "metadata": {},
   "outputs": [],
   "source": [
    "plt.plot(np.real(eigvals))"
   ]
  }
 ],
 "metadata": {
  "kernelspec": {
   "display_name": "Python 3",
   "language": "python",
   "name": "python3"
  },
  "language_info": {
   "codemirror_mode": {
    "name": "ipython",
    "version": 3
   },
   "file_extension": ".py",
   "mimetype": "text/x-python",
   "name": "python",
   "nbconvert_exporter": "python",
   "pygments_lexer": "ipython3",
   "version": "3.9.0"
  }
 },
 "nbformat": 4,
 "nbformat_minor": 4
}
