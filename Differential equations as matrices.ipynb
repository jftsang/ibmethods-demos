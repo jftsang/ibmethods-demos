{
 "cells": [
  {
   "cell_type": "markdown",
   "metadata": {},
   "source": [
    "# Differential operators as matrices\n",
    "\n",
    "Differential operators are linear operators on vector fields of functions. They have many similar properties to matrices on finite-dimensional vector spaces. Indeed, if a function $y(x)$ is sampled at discrete points with values $y_n$, then the approximations to $y'$, $y''$ are created by multiplying the vector $(y_n)$ with a difference matrix.\n",
    "\n",
    "In particular, the eigenvalues and eigenfunctions of an operator can be approximated by looking at the eigenvalues and eigenvectors of the discretised matrix operator. This can be done numerically using methods such as `eigh` from the `scipy` package: see [its documentation](https://docs.scipy.org/doc/scipy/reference/generated/scipy.linalg.eigh.html) for information about its algorithm. (We are only interested in self-adjoint operators. When discretised, they become Hermitian matrices.) Note that most such algorithms return the eigenvectors as normalised vectors; their actual magnitude when interpreted as functions needs to be scaled by $\\sqrt{N}$, where $N$ is the number of gridpoints."
   ]
  },
  {
   "cell_type": "code",
   "execution_count": 364,
   "metadata": {},
   "outputs": [],
   "source": [
    "import numpy as np\n",
    "from numpy import pi\n",
    "from numpy import sqrt, sin, cos, tan, sinh, cosh, exp, dot\n",
    "# from numpy.linalg import eig, eigh\n",
    "from scipy.linalg import eig, eigh\n",
    "import matplotlib.pyplot as plt\n",
    "from ipywidgets import interact, interactive, fixed, interact_manual\n",
    "import ipywidgets as widgets"
   ]
  },
  {
   "cell_type": "code",
   "execution_count": 331,
   "metadata": {},
   "outputs": [],
   "source": [
    "def discretise(xa, xb, nx=101):\n",
    "    \"\"\"Returns the xs, the spacing dx between the xs,\n",
    "    and the identity and first and second derivative\n",
    "    matrices, computed using a 2nd-order scheme.\"\"\"\n",
    "    xs = np.linspace(xa, xb, nx)\n",
    "    dx = xs[1] - xs[0]\n",
    "\n",
    "    eye = np.eye(nx)\n",
    "    \n",
    "    ddx = (np.roll(eye, 1, 1) - np.roll(eye, -1, 1)) / (2*dx)\n",
    "    # Use 3rd-order scheme at boundaries?\n",
    "    ddx[0, :] = 0; ddx[0, :4] = (-11/6, 3, -3/2, 1/3) / dx\n",
    "    ddx[-1, :] = 0; ddx[-1, -4:] = (-1/3, 3/2, -3, 11/6) / dx\n",
    "\n",
    "    d2dx2 = (np.roll(eye, 1, 1) - 2*eye + np.roll(eye, -1, 1)) / (dx*dx)\n",
    "    d2dx2[0, :] = 0; d2dx2[0, :4] = (2, -5, 4, -1) / (dx*dx)\n",
    "    d2dx2[-1, :] = 0; d2dx2[-1, -4:] = (-1, 4, -5, 2) / (dx*dx)\n",
    "    \n",
    "    return xs, dx, eye, ddx, d2dx2"
   ]
  },
  {
   "cell_type": "markdown",
   "metadata": {},
   "source": [
    "## The harmonic functions\n",
    "These are the eigenfunctions of the operator $-D^2$."
   ]
  },
  {
   "cell_type": "code",
   "execution_count": 334,
   "metadata": {
    "scrolled": true
   },
   "outputs": [
    {
     "data": {
      "application/vnd.jupyter.widget-view+json": {
       "model_id": "1600096c7b234a288924c4bc0c40d62d",
       "version_major": 2,
       "version_minor": 0
      },
      "text/plain": [
       "interactive(children=(IntSlider(value=0, description='mode', max=12), Output()), _dom_classes=('widget-interac…"
      ]
     },
     "metadata": {},
     "output_type": "display_data"
    }
   ],
   "source": [
    "xa = 0; xb = pi; nx = 101;\n",
    "xs, dx, eye, ddx, d2dx2 = discretise(xa, xb, nx)\n",
    "eigvals, eigvecs = eigh(-d2dx2)\n",
    "@interact(mode=widgets.IntSlider(min=0, max=12))\n",
    "def harmfun(mode):\n",
    "    plt.plot(xs, eigvecs[:, mode+2] * sqrt(nx)) # TODO what's with modes 0 and 1?\n",
    "    plt.gca().set(title=f\"E = %.2f\" % eigvals[mode+2], \n",
    "                  xlim=[xa, xb], ylim=[-2, 2])\n",
    "    plt.gca().grid()"
   ]
  },
  {
   "cell_type": "markdown",
   "metadata": {},
   "source": [
    "## The quantum harmonic oscillator\n",
    "\n",
    "In suitable units, the time-independent Schrodinger equation for the wavefunction in a harmonic potential is \n",
    "$$ -y'' + x^2 y = E y.$$\n",
    "The possible energy levels $E$ are the eigenvalues of the operator $-D^2 + x^2$. The operator 'multiply by $x^2$' is represented as a diagonal matrix whose elements are $x_n^2$, where $x_n$ are the gridpoints of the discretisation."
   ]
  },
  {
   "cell_type": "code",
   "execution_count": 333,
   "metadata": {},
   "outputs": [
    {
     "data": {
      "application/vnd.jupyter.widget-view+json": {
       "model_id": "3ce0b79413cb4151a89270cc50c8a3bb",
       "version_major": 2,
       "version_minor": 0
      },
      "text/plain": [
       "interactive(children=(IntSlider(value=0, description='mode', max=12), Output()), _dom_classes=('widget-interac…"
      ]
     },
     "metadata": {},
     "output_type": "display_data"
    }
   ],
   "source": [
    "xa = -10; xb = 10; nx = 501;\n",
    "xs, dx, eye, ddx, d2dx2 = discretise(xa, xb, nx)\n",
    "d2dx2[0, :] = 0; d2dx2[-1, :] = 0\n",
    "eigvals, eigvecs = eigh(-d2dx2 + np.diag(xs**2))\n",
    "# eigvals, eigvecs = eigh(-d2dx2)\n",
    "\n",
    "@interact(mode=widgets.IntSlider(min=0, max=12))\n",
    "def qhoplot(mode):\n",
    "    # TODO what's up with the first mode? \n",
    "    # I think we aren't imposing BCs correctly.\n",
    "    plt.plot(xs, eigvecs[:, mode+1])\n",
    "    plt.gca().set(title=f\"E = %.2f\" % eigvals[mode+1], \n",
    "                  xlim=[-10, 10], ylim=[-.16, .16])\n",
    "    plt.gca().grid()\n",
    "#     plt.plot(eigvals[:mode], 'x')"
   ]
  },
  {
   "cell_type": "markdown",
   "metadata": {},
   "source": [
    "## Sheet 1, question 7\n",
    "\n",
    "$$ y'' + 4y' + 4y = -\\lambda y $$\n",
    "\n",
    "so the operator of interest is $D^2 + 4D + 4I$. Note that this is _not_ a self-adjoint operator, so we'll need to use the `eig` solver, not `eigh`."
   ]
  },
  {
   "cell_type": "code",
   "execution_count": 404,
   "metadata": {},
   "outputs": [],
   "source": [
    "xa = 0; xb = 1; nx = 301;\n",
    "xs, dx, eye, ddx, d2dx2 = discretise(xa, xb, nx)\n",
    "d2dx2[0, :] = 0; d2dx2[-1, :] = 0"
   ]
  },
  {
   "cell_type": "code",
   "execution_count": 414,
   "metadata": {
    "scrolled": true
   },
   "outputs": [
    {
     "data": {
      "application/vnd.jupyter.widget-view+json": {
       "model_id": "dafbc67cf63b40f486bfece79ee14045",
       "version_major": 2,
       "version_minor": 0
      },
      "text/plain": [
       "interactive(children=(IntSlider(value=0, description='mode', max=12), Output()), _dom_classes=('widget-interac…"
      ]
     },
     "metadata": {},
     "output_type": "display_data"
    }
   ],
   "source": [
    "eigvals, eigvecs = eig(d2dx2 + 4*ddx + 4*eye)\n",
    "eigvals = -eigvals\n",
    "# eigvals, eigvecs = eigh(-d2dx2)\n",
    "\n",
    "@interact(mode=widgets.IntSlider(min=0, max=12))\n",
    "def s1q7_plot_notsl(mode):\n",
    "    # TODO what's up with the first mode? \n",
    "    # I think we aren't imposing BCs correctly.\n",
    "    plt.plot(xs[0::2], eigvecs[0::2, mode+1] * sqrt(nx) * np.sign(eigvecs[2, mode+1]))\n",
    "    plt.gca().set(title=f\"E = %.2f\" % eigvals[-mode-2], \n",
    "                  xlim=[0, 1], ylim=[-3, 3])\n",
    "    plt.gca().grid()\n",
    "#     plt.plot(eigvals[:mode], 'x')"
   ]
  },
  {
   "cell_type": "markdown",
   "metadata": {},
   "source": [
    "We can turn the equation into a self-adjoint equation by multiplying through by the integrating factor $p(x) = \\exp(4x)$, to get\n",
    "\n",
    "$$ (py')' + 4py = -\\lambda py. $$\n",
    "\n",
    "As a matrix equation, this becomes\n",
    "\n",
    "$$ \n",
    "(DPD + 4P)y = -\\lambda Py,\n",
    "$$\n",
    "a generalised eigenvector problem. As in the QHO example, $P$ is a diagonal matrix whose elements are $p(x_n) = \\exp(4x_n)$, representing multiplication by $p(x)$. So, recasting in Sturm-Liouville form is akin to diagonalising a matrix."
   ]
  },
  {
   "cell_type": "code",
   "execution_count": 409,
   "metadata": {},
   "outputs": [],
   "source": [
    "p_mat = np.diag(exp(4*xs))\n",
    "eigvals, eigvecs = eigh(ddx @ p_mat @ ddx + 4 * p_mat, p_mat)\n",
    "eigvals = -eigvals"
   ]
  },
  {
   "cell_type": "code",
   "execution_count": 413,
   "metadata": {},
   "outputs": [
    {
     "data": {
      "application/vnd.jupyter.widget-view+json": {
       "model_id": "04ee9e3a210540c899a8c318d1fab586",
       "version_major": 2,
       "version_minor": 0
      },
      "text/plain": [
       "interactive(children=(IntSlider(value=0, description='mode', max=12), Output()), _dom_classes=('widget-interac…"
      ]
     },
     "metadata": {},
     "output_type": "display_data"
    }
   ],
   "source": [
    "@interact(mode=widgets.IntSlider(min=0, max=12))\n",
    "def s1q7_plot_sl(mode):\n",
    "    # TODO what's up with the first mode? \n",
    "    # I think we aren't imposing BCs correctly.\n",
    "    plt.plot(xs[0::4], eigvecs[0::4, 2*mode+2] * sqrt(nx) * np.sign(eigvecs[4, 2*mode+2]))\n",
    "    plt.gca().set(title=f\"E = %.2f\" % eigvals[-2*mode-4], \n",
    "                  xlim=[0, 1], ylim=[-1, 1])\n",
    "    plt.gca().grid()\n",
    "#     plt.plot(eigvals[:mode], 'x')"
   ]
  },
  {
   "cell_type": "markdown",
   "metadata": {},
   "source": [
    "## Sheet 1, question 8: Bessel functions"
   ]
  },
  {
   "cell_type": "code",
   "execution_count": 442,
   "metadata": {},
   "outputs": [],
   "source": [
    "xa = 0.01; xb = 10; nx = 601;\n",
    "xs, dx, eye, ddx, d2dx2 = discretise(xa, xb, nx)\n",
    "d2dx2[0, :] = 0; d2dx2[-1, :] = 0"
   ]
  },
  {
   "cell_type": "code",
   "execution_count": 444,
   "metadata": {
    "scrolled": true
   },
   "outputs": [
    {
     "data": {
      "application/vnd.jupyter.widget-view+json": {
       "model_id": "5308e4bccb5744308daf2e802f979020",
       "version_major": 2,
       "version_minor": 0
      },
      "text/plain": [
       "interactive(children=(IntSlider(value=0, description='mode', max=12), Output()), _dom_classes=('widget-interac…"
      ]
     },
     "metadata": {},
     "output_type": "display_data"
    }
   ],
   "source": [
    "x_mat = np.diag(xs)\n",
    "eigvals, eigvecs = eigh(ddx @ x_mat @ ddx, x_mat)\n",
    "# eigvals = -eigvals\n",
    "# eigvals, eigvecs = eigh(-d2dx2)\n",
    "\n",
    "@interact(mode=widgets.IntSlider(min=0, max=12))\n",
    "def s1q8_plot_notsl(mode):\n",
    "    # TODO what's up with the first mode? \n",
    "    # I think we aren't imposing BCs correctly.\n",
    "    plt.plot(xs, eigvecs[:, mode] * np.sign(eigvecs[0, mode]))\n",
    "    plt.gca().set(title=f\"E = %.2f\" % eigvals[-mode], \n",
    "                  xlim=[xa, xb], ylim=[-.25, .25])\n",
    "    plt.gca().grid()\n",
    "#     plt.plot(eigvals[:mode], 'x')"
   ]
  },
  {
   "cell_type": "code",
   "execution_count": 430,
   "metadata": {},
   "outputs": [
    {
     "data": {
      "text/plain": [
       "array([           -inf-0.j, -3.92804779e-02-0.j,  4.03231911e-02-0.j,\n",
       "        3.13207410e+00-0.j,  9.45081084e+00-0.j,  2.19009240e+01-0.j,\n",
       "        3.94406546e+01-0.j,  6.07874639e+01-0.j,  8.92554488e+01-0.j,\n",
       "        1.19185856e+02-0.j,  1.58947878e+02-0.j,  1.97039118e+02-0.j,\n",
       "        2.48498212e+02-0.j,  2.94313828e+02-0.j,  3.57869398e+02-0.j,\n",
       "        4.10975220e+02-0.j,  4.87012849e+02-0.j,  5.46983003e+02-0.j,\n",
       "        6.35869855e+02-0.j,  7.02290208e+02-0.j,  8.04372070e+02-0.j,\n",
       "        8.76842718e+02-0.j,  9.92441745e+02-0.j,  1.07057905e+03-0.j,\n",
       "        1.19999186e+03-0.j,  1.28343022e+03-0.j,  1.42692622e+03-0.j,\n",
       "        1.51531961e+03-0.j,  1.67313955e+03-0.j,  1.76616291e+03-0.j,\n",
       "        1.93851757e+03-0.j,  2.03586807e+03-0.j,  2.22293708e+03-0.j,\n",
       "        2.32433517e+03-0.j,  2.52626605e+03-0.j,  2.63145643e+03-0.j,\n",
       "        2.84836371e+03-0.j,  2.95711609e+03-0.j,  3.18908066e+03-0.j,\n",
       "        3.30119043e+03-0.j,  3.54825899e+03-0.j,  3.66354765e+03-0.j,\n",
       "        3.92573242e+03-0.j,  4.04404787e+03-0.j,  4.32132641e+03-0.j,\n",
       "        4.44254306e+03-0.j,  4.73485832e+03-0.j,  4.85887700e+03-0.j,\n",
       "        5.16613758e+03-0.j,  5.29288521e+03-0.j,  5.61496589e+03-0.j,\n",
       "        5.74439496e+03-0.j,  6.08113733e+03-0.j,  6.21322518e+03-0.j,\n",
       "        6.56443861e+03-0.j,  6.69918644e+03-0.j,  7.06464923e+03-0.j,\n",
       "        7.20208094e+03-0.j,  7.58154170e+03-0.j,  7.72170248e+03-0.j,\n",
       "        8.11488169e+03-0.j,  8.25783645e+03-0.j,  8.66442823e+03-0.j,\n",
       "        8.81025987e+03-0.j,  9.22993390e+03-0.j,  9.37874138e+03-0.j,\n",
       "        9.81114495e+03-0.j,  9.96304134e+03-0.j,  1.04078015e+04-0.j,\n",
       "        1.05629119e+04-0.j,  1.10196377e+04-0.j,  1.11780969e+04-0.j,\n",
       "        1.16463816e+04-0.j,  1.18083326e+04-0.j,  1.22877557e+04-0.j,\n",
       "        1.24533468e+04-0.j,  1.29434767e+04-0.j,  1.31128601e+04-0.j,\n",
       "        1.36132556e+04-0.j,  1.37865853e+04-0.j,  1.42967980e+04-0.j,\n",
       "        1.44742279e+04-0.j,  1.49938040e+04-0.j,  1.51754863e+04-0.j,\n",
       "        1.57039681e+04-0.j,  1.58900520e+04-0.j,  1.64269797e+04-0.j,\n",
       "        1.66176098e+04-0.j,  1.71625227e+04-0.j,  1.73578379e+04-0.j,\n",
       "        1.79102760e+04-0.j,  1.81104084e+04-0.j,  1.86699133e+04-0.j,\n",
       "        1.88749874e+04-0.j,  1.94411030e+04-0.j,  1.96512350e+04-0.j,\n",
       "        2.02235089e+04-0.j,  2.04388059e+04-0.j,  2.10167897e+04-0.j,\n",
       "        2.12373494e+04-0.j,  2.18205995e+04-0.j,  2.20465097e+04-0.j,\n",
       "        2.26345875e+04-0.j,  2.28659259e+04-0.j,  2.34583987e+04-0.j,\n",
       "        2.36952325e+04-0.j,  2.42916734e+04-0.j,  2.45340595e+04-0.j,\n",
       "        2.51340477e+04-0.j,  2.53820325e+04-0.j,  2.59851538e+04-0.j,\n",
       "        2.62387729e+04-0.j,  2.68446196e+04-0.j,  2.71038983e+04-0.j,\n",
       "        2.77120694e+04-0.j,  2.79770224e+04-0.j,  2.85871238e+04-0.j,\n",
       "        2.88577556e+04-0.j,  2.94693997e+04-0.j,  2.97457046e+04-0.j,\n",
       "        3.03585109e+04-0.j,  3.06404731e+04-0.j,  3.12540680e+04-0.j,\n",
       "        3.15416618e+04-0.j,  3.21556785e+04-0.j,  3.24488686e+04-0.j,\n",
       "        3.30629470e+04-0.j,  3.33616887e+04-0.j,  3.39754757e+04-0.j,\n",
       "        3.42797148e+04-0.j,  3.48928642e+04-0.j,  3.52025376e+04-0.j,\n",
       "        3.58147097e+04-0.j,  3.61297454e+04-0.j,  3.67406074e+04-0.j,\n",
       "        3.70609249e+04-0.j,  3.76701506e+04-0.j,  3.79956609e+04-0.j,\n",
       "        3.86029309e+04-0.j,  3.89335368e+04-0.j,  3.95385381e+04-0.j,\n",
       "        3.98741347e+04-0.j,  4.04765610e+04-0.j,  4.08170353e+04-0.j,\n",
       "        4.14165869e+04-0.j,  4.17618187e+04-0.j,  4.23582022e+04-0.j,\n",
       "        4.27080640e+04-0.j,  4.33009926e+04-0.j,  4.36553498e+04-0.j,\n",
       "        4.42445431e+04-0.j,  4.46032542e+04-0.j,  4.51884383e+04-0.j,\n",
       "        4.55513553e+04-0.j,  4.61322625e+04-0.j,  4.64992310e+04-0.j,\n",
       "        4.70756000e+04-0.j,  4.74464594e+04-0.j,  4.80180351e+04-0.j,\n",
       "        4.83926190e+04-0.j,  4.89591528e+04-0.j,  4.93372887e+04-0.j,\n",
       "        4.98985381e+04-0.j,  5.02800483e+04-0.j,  5.08357771e+04-0.j,\n",
       "        5.12204785e+04-0.j,  5.17704567e+04-0.j,  5.21581609e+04-0.j,\n",
       "        5.27021647e+04-0.j,  5.30926786e+04-0.j,  5.36304903e+04-0.j,\n",
       "        5.40236159e+04-0.j,  5.45550243e+04-0.j,  5.49505591e+04-0.j,\n",
       "        5.54753588e+04-0.j,  5.58730960e+04-0.j,  5.63910880e+04-0.j,\n",
       "        5.67908166e+04-0.j,  5.73018079e+04-0.j,  5.77033130e+04-0.j,\n",
       "        5.82071169e+04-0.j,  5.86101797e+04-0.j,  5.91066156e+04-0.j,\n",
       "        5.95110137e+04-0.j,  5.99999071e+04-0.j,  6.04054148e+04-0.j,\n",
       "        6.08865975e+04-0.j,  6.12929856e+04-0.j,  6.17662955e+04-0.j,\n",
       "        6.21733320e+04-0.j,  6.26386131e+04-0.j,  6.30460627e+04-0.j,\n",
       "        6.35031653e+04-0.j,  6.39107903e+04-0.j,  6.43595709e+04-0.j,\n",
       "        6.47671306e+04-0.j,  6.52074521e+04-0.j,  6.56147034e+04-0.j,\n",
       "        6.60464347e+04-0.j,  6.64531324e+04-0.j,  6.68761487e+04-0.j,\n",
       "        6.72820452e+04-0.j,  6.76962282e+04-0.j,  6.81010738e+04-0.j,\n",
       "        6.85063115e+04-0.j,  6.89098545e+04-0.j,  6.93060413e+04-0.j,\n",
       "        6.97080283e+04-0.j,  7.00950650e+04-0.j,  7.04952408e+04-0.j,\n",
       "        8.99927261e+04-0.j,  8.99942860e+04-0.j,  8.99653552e+04-0.j,\n",
       "        8.99698491e+04-0.j,  8.99176458e+04-0.j,  8.99258291e+04-0.j,\n",
       "        8.98497134e+04-0.j,  8.98622004e+04-0.j,  8.97789649e+04-0.j,\n",
       "        8.97616457e+04-0.j,  8.96761399e+04-0.j,  8.96535210e+04-0.j,\n",
       "        8.95537553e+04-0.j,  8.95254166e+04-0.j,  8.94118522e+04-0.j,\n",
       "        8.93774125e+04-0.j,  8.92504821e+04-0.j,  8.92095928e+04-0.j,\n",
       "        8.90697066e+04-0.j,  8.90220474e+04-0.j,  8.88695971e+04-0.j,\n",
       "        8.88148728e+04-0.j,  8.86502341e+04-0.j,  8.85881719e+04-0.j,\n",
       "        8.84117077e+04-0.j,  8.83420552e+04-0.j,  8.81541169e+04-0.j,\n",
       "        8.80766404e+04-0.j,  8.78775696e+04-0.j,  8.77920527e+04-0.j,\n",
       "        8.75821826e+04-0.j,  8.74884250e+04-0.j,  8.72680815e+04-0.j,\n",
       "        8.71658981e+04-0.j,  8.69354003e+04-0.j,  8.68246202e+04-0.j,\n",
       "        8.65842818e+04-0.j,  8.64647476e+04-0.j,  8.62148770e+04-0.j,\n",
       "        8.60864441e+04-0.j,  8.58273453e+04-0.j,  8.56898815e+04-0.j,\n",
       "        8.54218545e+04-0.j,  8.52752390e+04-0.j,  8.49985802e+04-0.j,\n",
       "        8.48427037e+04-0.j,  8.45577064e+04-0.j,  8.43924703e+04-0.j,\n",
       "        8.40994249e+04-0.j,  8.39247411e+04-0.j,  8.36239354e+04-0.j,\n",
       "        8.34397257e+04-0.j,  8.31314452e+04-0.j,  8.29376414e+04-0.j,\n",
       "        8.26221696e+04-0.j,  8.24187128e+04-0.j,  8.20963312e+04-0.j,\n",
       "        8.18831717e+04-0.j,  8.15541601e+04-0.j,  8.13312570e+04-0.j,\n",
       "        8.09958938e+04-0.j,  8.07632151e+04-0.j,  8.04217769e+04-0.j,\n",
       "        8.01792990e+04-0.j,  7.08730347e+04-0.j,  7.12711424e+04-0.j,\n",
       "        7.16396075e+04-0.j,  7.98320613e+04-0.j,  7.95797688e+04-0.j,\n",
       "        7.20353887e+04-0.j,  7.23944454e+04-0.j,  7.92270057e+04-0.j,\n",
       "        7.89648915e+04-0.j,  7.27876403e+04-0.j,  7.31372159e+04-0.j,\n",
       "        7.35275632e+04-0.j,  7.38675916e+04-0.j,  7.86068759e+04-0.j,\n",
       "        7.83349406e+04-0.j,  7.42548288e+04-0.j,  7.45852508e+04-0.j,\n",
       "        7.79719442e+04-0.j,  7.76901963e+04-0.j,  7.49691141e+04-0.j,\n",
       "        7.52898775e+04-0.j,  7.73224898e+04-0.j,  7.70309454e+04-0.j,\n",
       "        7.56701020e+04-0.j,  7.66587982e+04-0.j,  7.59811614e+04-0.j,\n",
       "        7.63574809e+04-0.j])"
      ]
     },
     "execution_count": 430,
     "metadata": {},
     "output_type": "execute_result"
    }
   ],
   "source": [
    "eigvals"
   ]
  },
  {
   "cell_type": "code",
   "execution_count": null,
   "metadata": {},
   "outputs": [],
   "source": []
  }
 ],
 "metadata": {
  "kernelspec": {
   "display_name": "Python 3",
   "language": "python",
   "name": "python3"
  },
  "language_info": {
   "codemirror_mode": {
    "name": "ipython",
    "version": 3
   },
   "file_extension": ".py",
   "mimetype": "text/x-python",
   "name": "python",
   "nbconvert_exporter": "python",
   "pygments_lexer": "ipython3",
   "version": "3.7.5"
  }
 },
 "nbformat": 4,
 "nbformat_minor": 4
}
