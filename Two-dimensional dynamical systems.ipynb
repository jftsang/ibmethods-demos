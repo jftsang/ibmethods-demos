{
 "cells": [
  {
   "cell_type": "markdown",
   "metadata": {},
   "source": [
    "# Two-dimensional dynamical systems"
   ]
  },
  {
   "cell_type": "code",
   "execution_count": null,
   "metadata": {},
   "outputs": [],
   "source": [
    "from functools import cache\n",
    "from itertools import product\n",
    "import matplotlib.pyplot as plt\n",
    "import numpy as np\n",
    "import random\n",
    "from scipy.integrate import solve_ivp\n",
    "\n",
    "from ipywidgets import interact, interactive, fixed, interact_manual\n",
    "import ipywidgets as widgets"
   ]
  },
  {
   "cell_type": "markdown",
   "metadata": {},
   "source": [
    "## Competition or Lotka-Volterra (Mathematical Biology Sheet 1 Question 7)\n",
    "\n",
    "$b_{ij}$ represent the strength of the influence of species $j$ on species $i$. Large positive $b_{ij}$ indicates a strong, negative influence. Both $b_{12}, b_{21} > 0$ indicates a competition model, whereas $b_{12} > 0$, $b_{21} < 0$ could represent a predator-prey (Lotka-Volterra) model with a logistic intrinsic growth."
   ]
  },
  {
   "cell_type": "code",
   "execution_count": null,
   "metadata": {},
   "outputs": [],
   "source": [
    "def lotka_volterra(t, y, rho, b12, b21):\n",
    "    n1, n2 = y\n",
    "    n1_dot = n1 * (1 - n1 - b12 * n2)\n",
    "    n2_dot = rho * n2 * (1 - b21 * n1 - n2)\n",
    "    return [n1_dot, n2_dot]"
   ]
  },
  {
   "cell_type": "code",
   "execution_count": null,
   "metadata": {},
   "outputs": [],
   "source": [
    "@interact(rho=widgets.FloatSlider(min=0, max=3, value=1, continuous_update=False),\n",
    "          b12=widgets.FloatSlider(min=-2, max=2, value=1.5, continuous_update=False),\n",
    "          b21=widgets.FloatSlider(min=-2, max=2, value=0.5, continuous_update=False))\n",
    "def lvdemo(rho, b12, b21):\n",
    "    x_range = [0, 1.5]\n",
    "    y_range = [0, 1.5]\n",
    "    tf = 8\n",
    "    initial_states = [(x, y)\n",
    "                      for x in np.linspace(*x_range, 11) \n",
    "                      for y in np.linspace(*y_range, 11)]\n",
    "    sols = [solve_ivp(lotka_volterra,\n",
    "                      [0, tf],\n",
    "                      i,\n",
    "                      t_eval=np.linspace(0, tf, int(tf*50)),\n",
    "                      args=(rho, b12, b21))\n",
    "            for i in initial_states]\n",
    "\n",
    "    fig = plt.figure(figsize=(8, 8))\n",
    "    arrowlen = 0.05\n",
    "    for s in sols:\n",
    "        t, n1, n2 = s.t, s.y[0, :], s.y[1, :]\n",
    "        plt.scatter(n1, n2,\n",
    "                    s=np.linspace(1, 5, len(n1)),\n",
    "                    c=t,\n",
    "                    cmap='viridis'\n",
    "        )\n",
    "    try:\n",
    "        plt.plot([0, 1], [1/b12, 0], 'gray')\n",
    "        plt.plot([0, 1/b21], [1, 0], 'gray')\n",
    "    except ZeroDivisionError:\n",
    "        pass\n",
    "\n",
    "    ax = plt.gca()\n",
    "    ax.set_xlabel('n1')\n",
    "    ax.set_ylabel('n2')\n",
    "    ax.set_xlim(x_range)\n",
    "    ax.set_ylim(y_range)\n",
    "    plt.show()"
   ]
  },
  {
   "cell_type": "markdown",
   "metadata": {},
   "source": [
    "## Harvesting model (Mathematical Biology Sheet 1 Question 8)"
   ]
  },
  {
   "cell_type": "code",
   "execution_count": null,
   "metadata": {},
   "outputs": [],
   "source": [
    "def harvesting(t, y, alpha, f, eps):\n",
    "    u, v = y\n",
    "    if u >= 0 and v >= 0:\n",
    "        u_dot = u * (1 - v) - eps * u**2 - f\n",
    "        v_dot = -alpha * v * (1 - u)\n",
    "        return [u_dot, v_dot]\n",
    "    return [0, 0]"
   ]
  },
  {
   "cell_type": "code",
   "execution_count": null,
   "metadata": {},
   "outputs": [],
   "source": [
    "@interact(alpha=widgets.FloatSlider(min=0, max=3, value=1, continuous_update=False),\n",
    "          f=widgets.FloatSlider(min=0, max=2, value=0.1, step=0.05, continuous_update=False),\n",
    "          eps=widgets.FloatSlider(min=0, max=0.5, value=0.20, step=0.05, continuous_update=False))\n",
    "def harvesting_demo(alpha, f, eps):\n",
    "    u_range = [0, 7]\n",
    "    v_range = [0, 6]\n",
    "    tf = 5\n",
    "    initial_states = [(x, y)\n",
    "                      for x in np.linspace(*u_range, 13) \n",
    "                      for y in np.linspace(*v_range, 13)]\n",
    "    sols = [solve_ivp(harvesting,\n",
    "                      [0, tf],\n",
    "                      i,\n",
    "                      t_eval=np.linspace(0, tf, int(tf*50)),\n",
    "                      args=(alpha, f, eps))\n",
    "            for i in initial_states]\n",
    "\n",
    "    fig = plt.figure(figsize=(15, 8))\n",
    "    arrowlen = 0.05\n",
    "    for s in sols:\n",
    "        t, u, v = s.t, s.y[0, :], s.y[1, :]\n",
    "        plt.scatter(u, v,\n",
    "                    s=np.linspace(1, 20, len(t)),\n",
    "                    c=t,\n",
    "                    cmap='viridis'\n",
    "        )\n",
    "        \n",
    "    plt.plot([1, 1], v_range, 'gray')\n",
    "    us = np.linspace(*u_range)\n",
    "    plt.plot(us, -eps * us + 1 - f / us, 'gray')\n",
    "\n",
    "    ax = plt.gca()\n",
    "    ax.set_xlabel('u')\n",
    "    ax.set_ylabel('v')\n",
    "    ax.set_xlim(u_range)\n",
    "    ax.set_ylim(v_range)\n",
    "    if 0 < f < eps:\n",
    "        title = '(a)'\n",
    "    elif eps < f < 1 - eps:\n",
    "        title = '(b)'\n",
    "    elif 1 - eps < f < 1/(4*eps):\n",
    "        title = '(c)'\n",
    "    else:\n",
    "        title = '(d)'\n",
    "    ax.set_title(title)\n",
    "    ax.set_aspect(1/2)\n",
    "    plt.show()"
   ]
  },
  {
   "cell_type": "markdown",
   "metadata": {},
   "source": [
    "## SIR model"
   ]
  },
  {
   "cell_type": "code",
   "execution_count": null,
   "metadata": {},
   "outputs": [],
   "source": [
    "def sir(t, y, delta):\n",
    "    susc, inf = y\n",
    "    return [-susc * inf, susc * inf - delta * inf]"
   ]
  },
  {
   "cell_type": "code",
   "execution_count": null,
   "metadata": {},
   "outputs": [],
   "source": [
    "@interact(delta=widgets.FloatSlider(min=0, max=2, value=1, continuous_update=False))\n",
    "def sir_demo(delta):\n",
    "    x_range = [0, 1]\n",
    "    y_range = [0, 1]\n",
    "    tf = 10\n",
    "    initial_states = [(susc, 1 - susc)\n",
    "                      for susc in np.linspace(*x_range, 21)]\n",
    "    sols = [solve_ivp(sir, [0, tf], i,\n",
    "                      t_eval=np.linspace(0, tf, int(tf*50)),\n",
    "                     args=(delta,))\n",
    "            for i in initial_states]\n",
    "\n",
    "    fig = plt.figure(figsize=(8, 8))\n",
    "    arrowlen = 0.05\n",
    "    for s in sols:\n",
    "        t, susc, inf = s.t, s.y[0, :], s.y[1, :]\n",
    "        plt.scatter(susc, inf,\n",
    "            s=np.linspace(1, 30, len(t)),\n",
    "            c=t, cmap='viridis'\n",
    "        )\n",
    "\n",
    "    ax = plt.gca()\n",
    "    ax.set_aspect('equal', adjustable='box')\n",
    "    ax.set_xlim(x_range)\n",
    "    ax.set_ylim(y_range)\n",
    "    # ax.grid(color='black')\n",
    "    plt.show()"
   ]
  },
  {
   "cell_type": "markdown",
   "metadata": {},
   "source": [
    "## SIRS model (Mathematical Biology Sheet 2 Question 1)"
   ]
  },
  {
   "cell_type": "code",
   "execution_count": null,
   "metadata": {},
   "outputs": [],
   "source": [
    "def sir(t, y, delta, gamma):\n",
    "    susc, inf = y\n",
    "    return [-susc * inf + gamma * (1 - susc - inf), susc * inf - delta * inf]"
   ]
  },
  {
   "cell_type": "code",
   "execution_count": null,
   "metadata": {},
   "outputs": [],
   "source": [
    "@interact(delta=widgets.FloatSlider(min=0, max=2, value=1, continuous_update=False),\n",
    "          gamma=widgets.FloatSlider(min=0, max=2, value=0, continuous_update=False))\n",
    "def sir_demo(delta, gamma):\n",
    "    x_range = [0, 1]\n",
    "    y_range = [0, 1]\n",
    "    tf = 30\n",
    "    initial_states = [(susc, 1 - susc)\n",
    "                      for susc in np.linspace(*x_range, 21)]\n",
    "    sols = [solve_ivp(sir, [0, tf], i,\n",
    "                      t_eval=np.linspace(0, tf, int(tf*50)),\n",
    "                     args=(delta, gamma))\n",
    "            for i in initial_states]\n",
    "\n",
    "    fig = plt.figure(figsize=(8, 8))\n",
    "    arrowlen = 0.05\n",
    "    for s in sols:\n",
    "        t, susc, inf = s.t, s.y[0, :], s.y[1, :]\n",
    "        plt.scatter(susc, inf,\n",
    "            s=np.linspace(1, 30, len(t)),\n",
    "            c=t, cmap='viridis'\n",
    "        )\n",
    "\n",
    "    ax = plt.gca()\n",
    "    ax.set_aspect('equal', adjustable='box')\n",
    "    ax.set_xlim(x_range)\n",
    "    ax.set_ylim(y_range)\n",
    "    # ax.grid(color='black')\n",
    "    plt.show()"
   ]
  },
  {
   "cell_type": "markdown",
   "metadata": {},
   "source": [
    "## Phytoplankton and zooplankton (Mathematical Biology Sheet 2 Question 3)"
   ]
  },
  {
   "cell_type": "code",
   "execution_count": null,
   "metadata": {},
   "outputs": [],
   "source": [
    "def plankton(t, y, eps, b, c):\n",
    "    phyto, zoo = y\n",
    "    consumption = zoo * phyto**2 / (eps**2 + phyto**2)\n",
    "    d_phyto = b * phyto * (1 - phyto) - consumption\n",
    "    d_zoo = c * consumption - zoo\n",
    "    return d_phyto, d_zoo"
   ]
  },
  {
   "cell_type": "code",
   "execution_count": null,
   "metadata": {},
   "outputs": [],
   "source": [
    "@interact(\n",
    "    eps=widgets.FloatSlider(min=0, max=1, value=0.25, step=0.05, continuous_update=False),\n",
    "    b=widgets.FloatSlider(min=0, max=2, value=1.7, continuous_update=False),\n",
    "    c=widgets.FloatSlider(min=2, max=4, value=2.2, continuous_update=False)\n",
    ")\n",
    "def plankton_demo(eps, b, c):\n",
    "    x_range = [0, 1.6]\n",
    "    y_range = [0, 2.2]\n",
    "    xs = np.linspace(*x_range, 17)\n",
    "    ys = np.linspace(*y_range, 11) \n",
    "    \n",
    "    tf = 10\n",
    "    \n",
    "    initial_states = [(x, y)\n",
    "                      for x in xs\n",
    "                      for y in np.linspace(0, 0.2, 5)]\n",
    "    \n",
    "    sols = [solve_ivp(plankton, [0, tf], i,\n",
    "                      t_eval=np.linspace(0, tf, int(tf*50)),\n",
    "                      args=(eps, b, c),\n",
    "                      method='BDF')\n",
    "            for i in initial_states]\n",
    "    \n",
    "    separatrix = solve_ivp(plankton, [0, tf], (1, 0.01),\n",
    "                      t_eval=np.linspace(0, tf, int(tf*50)),\n",
    "                      args=(eps, b, c),\n",
    "                      method='BDF')\n",
    "\n",
    "    fig = plt.figure(figsize=(12, 8))\n",
    "    arrowlen = 0.05\n",
    "    for s in sols:\n",
    "        t, susc, inf = s.t, s.y[0, :], s.y[1, :]\n",
    "        plt.scatter(susc, inf,\n",
    "            s=np.linspace(1, 12, len(t)),\n",
    "            c=t, cmap='viridis'\n",
    "        )\n",
    "        \n",
    "    plt.plot(separatrix.y[0, :], separatrix.y[1, :], 'k-')\n",
    "        \n",
    "    xs = np.linspace(*x_range, 101)[1:]\n",
    "    plt.plot(xs, b * (1 - xs) * (eps**2 + xs**2) / xs, 'm--')\n",
    "    plt.plot([eps / (c - 1)**0.5] * len(ys), ys, 'r-.')\n",
    "    \n",
    "    ax = plt.gca()\n",
    "#     ax.set_aspect('equal', adjustable='box')\n",
    "    ax.set_xlim(x_range)\n",
    "    ax.set_ylim(y_range)\n",
    "    # ax.grid(color='black')\n",
    "    ax.legend(['separatrix', '$\\dot{x} = 0$', '$\\dot{y} = 0$'])\n",
    "    plt.show()"
   ]
  }
 ],
 "metadata": {
  "kernelspec": {
   "display_name": "Python 3 (ipykernel)",
   "language": "python",
   "name": "python3"
  },
  "language_info": {
   "codemirror_mode": {
    "name": "ipython",
    "version": 3
   },
   "file_extension": ".py",
   "mimetype": "text/x-python",
   "name": "python",
   "nbconvert_exporter": "python",
   "pygments_lexer": "ipython3",
   "version": "3.9.9"
  }
 },
 "nbformat": 4,
 "nbformat_minor": 4
}
