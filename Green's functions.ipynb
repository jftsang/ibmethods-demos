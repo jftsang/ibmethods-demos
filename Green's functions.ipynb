{
 "cells": [
  {
   "cell_type": "markdown",
   "metadata": {},
   "source": [
    "# Green's functions\n",
    "\n",
    "The Green's function of a linear system tells you how it responds to an impulsive forcing ($\\delta$). This response depends both on the differential equation but also, importantly, on the geometry and boundary conditions of the problem."
   ]
  },
  {
   "cell_type": "code",
   "execution_count": null,
   "metadata": {},
   "outputs": [],
   "source": [
    "import numpy as np\n",
    "from scipy.integrate import solve_bvp, solve_ivp\n",
    "import scipy as sp\n",
    "import matplotlib.pyplot as plt\n",
    "from ipywidgets import interact, interactive, fixed, interact_manual\n",
    "import ipywidgets as widgets\n",
    "\n",
    "def deltafunction(t):\n",
    "    \"\"\"Approximation to a delta function: a very narrow Gaussian\n",
    "    normalised such that its integral is 1.\"\"\"\n",
    "    delta = .01\n",
    "    return np.exp(-(t/delta)**2) / (delta * np.sqrt(np.pi))"
   ]
  },
  {
   "cell_type": "markdown",
   "metadata": {},
   "source": [
    "## Sheet 3, question 2\n",
    "$$ G'' - \\lambda^2 G = \\delta(x - \\xi) $$\n",
    "\n",
    "with homogeneous Dirichlet BCs."
   ]
  },
  {
   "cell_type": "code",
   "execution_count": null,
   "metadata": {},
   "outputs": [],
   "source": [
    "@interact(lamb=widgets.FloatSlider(min=0, max=10, value=1),\n",
    "          xi=widgets.FloatSlider(min=0, max=1, value=0.5))\n",
    "def q32demo(lamb, xi):\n",
    "    def fun(x, y):\n",
    "        return [y[1], lamb**2 * y[0] + deltafunction(x - xi)]\n",
    "\n",
    "    def bcs(ya, yb):\n",
    "        return [ya[0], yb[0]]\n",
    "\n",
    "    x_guess = np.linspace(0,1)\n",
    "    y_guess = np.zeros([2, len(x_guess)])\n",
    "    sol = solve_bvp(fun, bcs, x_guess, y_guess)\n",
    "\n",
    "    x_plot = np.linspace(0, 1, 1001)\n",
    "    y_plot = sol.sol(x_plot)\n",
    "    fig, ax = plt.subplots(figsize=(12, 5))\n",
    "    ax.plot(x_plot, y_plot[0,:], 'k-',\n",
    "            [xi], sol.sol([xi])[0,0], 'ko')\n",
    "    ax.set(xlim=[-0.05, 1.05], ylim=[-0.25, 0.025])\n",
    "    ax.grid() \n",
    "    ax.set(xlabel=\"x\")\n",
    "    ax.set(ylabel=\"y\")\n",
    "    plt.show()"
   ]
  },
  {
   "cell_type": "markdown",
   "metadata": {},
   "source": [
    "## Sheet 3, question 4\n",
    "\n",
    "$$ y''''  + k^2 y'' = f(t) $$\n",
    "\n",
    "with homogeneous BCs at $t=0$. WLOG you can take $k=1$ (otherwise rescale time). "
   ]
  },
  {
   "cell_type": "code",
   "execution_count": null,
   "metadata": {},
   "outputs": [],
   "source": [
    "@interact_manual(tau=widgets.FloatSlider(min=0, max=10, value=0.4))\n",
    "def q34demo(tau):\n",
    "    def forcing(t):\n",
    "        return deltafunction(t - tau)\n",
    "\n",
    "    def fun(t, y):\n",
    "        return [y[1], y[2], y[3], -y[2] + forcing(t)]\n",
    "\n",
    "    # Since the delta function is zero outside of such a narrow\n",
    "    # region, we need to take a very small step size so that it\n",
    "    # doesn't get missed.\n",
    "    sol = solve_ivp(fun, [0, 30], [0, 0, 0, 0], method='BDF', max_step=0.005)\n",
    "    \n",
    "    # t_plot = np.linspace(0, 1, 100)\n",
    "    # y_plot = sol.sol(t_plot)\n",
    "    # Normalise the guess (just for demonstration)\n",
    "    \n",
    "    plt.plot(sol.t, sol.y[0, :], 'k-',\n",
    "            [tau], [0], 'ko')\n",
    "    plt.grid()\n",
    "    plt.xlabel(\"x\")\n",
    "    plt.ylabel(\"y\")\n",
    "    plt.show()"
   ]
  }
 ],
 "metadata": {
  "kernelspec": {
   "display_name": "Python 3",
   "language": "python",
   "name": "python3"
  },
  "language_info": {
   "codemirror_mode": {
    "name": "ipython",
    "version": 3
   },
   "file_extension": ".py",
   "mimetype": "text/x-python",
   "name": "python",
   "nbconvert_exporter": "python",
   "pygments_lexer": "ipython3",
   "version": "3.7.5"
  }
 },
 "nbformat": 4,
 "nbformat_minor": 2
}
