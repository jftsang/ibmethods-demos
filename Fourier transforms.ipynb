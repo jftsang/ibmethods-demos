{
 "cells": [
  {
   "cell_type": "markdown",
   "metadata": {},
   "source": [
    "# Fourier transforms\n",
    "\n",
    "If a function is defined on the whole real line and not just a single interval (although it may have finite support), it is not necessarily period. It can have sine-like components at all frequencies (wavenumbers), not just those that are interval multiples of $2\\pi/L$. The 'coefficients' of such a 'continuous series' are the Fourier transform. \n",
    "\n",
    "In general, the Fourier transform of a function is complex even if the function is real. However, if the function is even about $x = 0$ then its FT is real; if it is odd, then its FT is pure imaginary.\n",
    "\n",
    "Computers can't represent analogue functions exactly. They can only sample them at discrete points. The Fourier transform of a discretely sampled function is called the discrete Fourier transform (DFT). This means that there is a limit to the maximum frequency that can be calculated by the DFT. There is also a limit to the domain width that can be stored, so there is also a minimum frequency of the DFT."
   ]
  },
  {
   "cell_type": "code",
   "execution_count": null,
   "metadata": {},
   "outputs": [],
   "source": [
    "import numpy as np\n",
    "import matplotlib.pyplot as plt\n",
    "\n",
    "from ipywidgets import interact, interactive, fixed, interact_manual\n",
    "import ipywidgets as widgets"
   ]
  },
  {
   "cell_type": "code",
   "execution_count": null,
   "metadata": {},
   "outputs": [],
   "source": [
    "def Vectorize(f):\n",
    "    \"\"\"Wrapper around np.vectorize for floats\"\"\"\n",
    "    return np.vectorize(f, otypes=[float])\n",
    "\n",
    "def myfft(ys):\n",
    "    \"\"\"Our FT convention that we will use in this course.\n",
    "    Note that conventions vary between packages and authors\n",
    "    over the normalisation.\n",
    "    For this course, we want our FTs to be independent of\n",
    "    the sample rate, so we'll normalise by multiplying by 2/nx.\n",
    "    \"\"\"\n",
    "    # TODO - sort out the normalisation. It's wrong.\n",
    "    return np.fft.fft(ys, norm=\"ortho\") * 2 / (np.pi * len(ys))"
   ]
  },
  {
   "cell_type": "code",
   "execution_count": null,
   "metadata": {},
   "outputs": [],
   "source": [
    "# The domain\n",
    "def get_domain(nx, xmax):\n",
    "    xs = np.linspace(-xmax, xmax, nx+1)[:-1]\n",
    "    dx = xs[1] - xs[0]\n",
    "    nyquist = np.pi / dx\n",
    "    ks = np.linspace(-nyquist, nyquist, nx+1)[:-1]\n",
    "    dk = ks[1] - ks[0]\n",
    "    return [xs, dx, ks, dk]"
   ]
  },
  {
   "cell_type": "markdown",
   "metadata": {},
   "source": [
    "## Question 7: FTs of functions of finite extent"
   ]
  },
  {
   "cell_type": "code",
   "execution_count": null,
   "metadata": {},
   "outputs": [],
   "source": [
    "def CompactSupport(xmin, xmax):\n",
    "    def compact_f(f):\n",
    "        return lambda x: 0 if (x > xmax or x < xmin) else f(x)\n",
    "\n",
    "    return compact_f\n",
    "\n",
    "@interact(c=widgets.FloatSlider(min=0, max=3, value=0.4),\n",
    "          a=widgets.FloatSlider(min=0, max=10, value=1),\n",
    "          fn=[\"tophat\", \"sinax\", \"cosax\"])\n",
    "def q7demo(c, a, fn):\n",
    "    @Vectorize\n",
    "    @CompactSupport(-c, c)\n",
    "    def tophat(x):\n",
    "        return 1\n",
    "    \n",
    "    @Vectorize\n",
    "    @CompactSupport(-c, c)\n",
    "    def sinax(x):\n",
    "        return np.sin(a*x)\n",
    "    \n",
    "    @Vectorize\n",
    "    @CompactSupport(-c, c)\n",
    "    def cosax(x):\n",
    "        return np.cos(a*x)\n",
    "    \n",
    "    xs, dx, ks, dk = get_domain(1024, xmax=24)\n",
    "    ys = locals()[fn](xs)\n",
    "    yfts = np.fft.fftshift(myfft(ys))\n",
    "#     print(np.sum(np.real(yfts)) * dk)\n",
    "#     print(np.sum(np.abs(ys)**2) * dx, np.sum(np.abs(yfts) ** 2 * dk))\n",
    "    fig, axs = plt.subplots(1, 2, figsize=[14, 5])\n",
    "    axs[0].plot(xs, ys, 'k-')\n",
    "    axs[0].set(xlim=[-4,4])\n",
    "    axs[1].plot(ks, np.real(yfts), 'k-',\n",
    "                ks, np.imag(yfts), 'b--')\n",
    "    axs[1].set(xlim=[-15,15])\n",
    "    plt.show()"
   ]
  },
  {
   "cell_type": "markdown",
   "metadata": {},
   "source": [
    "## Question 9: FTs of Gaussians"
   ]
  },
  {
   "cell_type": "code",
   "execution_count": null,
   "metadata": {},
   "outputs": [],
   "source": [
    "@interact_manual(n=widgets.FloatSlider(min=0, max=8, value=1),\n",
    "          m=widgets.FloatSlider(min=-5, max=5, value=0))\n",
    "def q8demo(n, m):\n",
    "    @Vectorize\n",
    "    def gaussian(x):\n",
    "        return np.exp(-n**2 * (x - m)**2)\n",
    "    \n",
    "    xs, dx, ks, dk = get_domain(nx=1024, xmax=32)\n",
    "    ys = gaussian(xs)\n",
    "    yfts = np.fft.fftshift(myfft(ys))\n",
    "#     print(np.sum(np.real(yfts)) * dk)\n",
    "#     print(np.sum(np.abs(ys)**2) * dx, np.sum(np.abs(yfts) ** 2 * dk))\n",
    "    fig, axs = plt.subplots(2, 2, figsize=[14, 8])\n",
    "    axs[0, 0].plot(xs, ys, 'k-')\n",
    "    axs[0, 0].set(xlim=[-10,10])\n",
    "    axs[0, 1].plot(ks, np.abs(yfts), 'k-')\n",
    "    axs[0, 1].set(xlim=[-15,15])\n",
    "    axs[1, 0].plot(ks, np.real(yfts), 'k-')\n",
    "    axs[1, 1].plot(ks, np.imag(yfts), 'b-')\n",
    "    axs[1, 0].set(xlim=[-15,15])\n",
    "    axs[1, 1].set(xlim=[-15,15])\n",
    "    plt.show()"
   ]
  },
  {
   "cell_type": "code",
   "execution_count": null,
   "metadata": {},
   "outputs": [],
   "source": []
  }
 ],
 "metadata": {
  "kernelspec": {
   "display_name": "Python 3",
   "language": "python",
   "name": "python3"
  },
  "language_info": {
   "codemirror_mode": {
    "name": "ipython",
    "version": 3
   },
   "file_extension": ".py",
   "mimetype": "text/x-python",
   "name": "python",
   "nbconvert_exporter": "python",
   "pygments_lexer": "ipython3",
   "version": "3.7.5"
  }
 },
 "nbformat": 4,
 "nbformat_minor": 4
}
